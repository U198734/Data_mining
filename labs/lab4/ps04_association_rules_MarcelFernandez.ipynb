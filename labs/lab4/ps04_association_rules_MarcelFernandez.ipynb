{
 "cells": [
  {
   "cell_type": "markdown",
   "metadata": {},
   "source": [
    "<font size=\"+2\" color=\"blue\">Additional results: experiments on cross-department association rules</font>"
   ]
  },
  {
   "cell_type": "markdown",
   "metadata": {},
   "source": [
    "# Practice Session 04: Basket analysis"
   ]
  },
  {
   "cell_type": "markdown",
   "metadata": {},
   "source": [
    "Author: <font color=\"blue\">Marcel Fernández Serrano</font>\n",
    "\n",
    "E-mail: <font color=\"blue\">marcel.fernandez02@estudiant.upf.edu</font>\n",
    "\n",
    "Date: <font color=\"blue\">17/10/2023</font>"
   ]
  },
  {
   "cell_type": "code",
   "execution_count": 1,
   "metadata": {},
   "outputs": [],
   "source": [
    "import numpy as np  \n",
    "import matplotlib.pyplot as plt  \n",
    "import pandas as pd  \n",
    "import csv\n",
    "import gzip\n",
    "from apyori import apriori"
   ]
  },
  {
   "cell_type": "markdown",
   "metadata": {},
   "source": [
    "# 1. Playing with apyori"
   ]
  },
  {
   "cell_type": "code",
   "execution_count": 2,
   "metadata": {},
   "outputs": [],
   "source": [
    "# LEAVE AS-IS\n",
    "\n",
    "def print_apyori_output (association_results, info=False, info_key=False):\n",
    "    for relation_record in association_results:\n",
    "        itemset = list(relation_record.items)\n",
    "        \n",
    "        # Consider only itemsets of two elements\n",
    "        if len(itemset) > 1: \n",
    "        \n",
    "            print(\"Rules involving itemset %s\" % itemset)\n",
    "            support = relation_record.support\n",
    "\n",
    "            for rules in relation_record.ordered_statistics:\n",
    "                antecedent = list(rules.items_base)\n",
    "                consequent = list(rules.items_add)\n",
    "                \n",
    "                if info_key:\n",
    "                    antecedent = [info.loc[x][info_key] for x in antecedent]\n",
    "                    consequent = [info.loc[x][info_key] for x in consequent]\n",
    "                \n",
    "                confidence = rules.confidence\n",
    "                lift = rules.lift\n",
    "\n",
    "                print(\"%s => %s (support=%.4f, confidence=%.2f, lift=%.2f)\" %\n",
    "                      (antecedent, consequent, support, confidence, lift))\n",
    "            print()"
   ]
  },
  {
   "cell_type": "code",
   "execution_count": 3,
   "metadata": {},
   "outputs": [],
   "source": [
    "transactions = [\n",
    "    ['beer', 'chips', 'nuts', 'olives'],\n",
    "    ['beer', 'chips', 'olives'],\n",
    "    ['chips', 'nuts' ],\n",
    "    ['chips', 'olives'],\n",
    "    ['beer', 'chips', 'olives'],\n",
    "    ['chips'],\n",
    "    ['nuts', 'olives'],\n",
    "    ['beer', 'nuts'],\n",
    "    ['beer', 'chips', 'olives'], \n",
    "    ['beer', 'nuts', 'olives'], \n",
    "    ['nuts', 'chips', 'olives'], \n",
    "    ['beer', 'olives'],\n",
    "    ['chips', 'olives'], \n",
    "    ['beer', 'chips', 'olives'],\n",
    "    ['beer'],\n",
    "    ['chips', 'nuts' ],\n",
    "    ['chips', 'olives'],\n",
    "    ['chips', 'beer' ],\n",
    "    ['beer', 'olives'],\n",
    "    ['beer', 'chips', 'nuts', 'olives'],\n",
    "    ['beer', 'chips', 'olives']\n",
    "\n",
    "]\n",
    "results = list(apriori(transactions, min_support=0.3, min_confidence=0.75, min_lift=1.0))\n"
   ]
  },
  {
   "cell_type": "code",
   "execution_count": 4,
   "metadata": {},
   "outputs": [
    {
     "name": "stdout",
     "output_type": "stream",
     "text": [
      "Rules involving itemset ['beer', 'olives']\n",
      "['beer'] => ['olives'] (support=0.4762, confidence=0.77, lift=1.08)\n",
      "\n",
      "Rules involving itemset ['beer', 'olives', 'chips']\n",
      "['beer', 'chips'] => ['olives'] (support=0.3333, confidence=0.88, lift=1.22)\n",
      "\n"
     ]
    }
   ],
   "source": [
    "print_apyori_output(results)"
   ]
  },
  {
   "cell_type": "markdown",
   "metadata": {},
   "source": [
    "#### In the first case we can see ['beer'] => ['olives'] (support=0.4762, confidence=0.77, lift=1.08)\n",
    "- The support is the times that appers something over the total then we are doing\n",
    ">- Support (X) = 13 / 21 = 0.6190  // Where X = beer and Y = olives\n",
    ">- Support (Y) = 15 / 21 = 0.7142\n",
    ">- Supp(X ∩ Y) = 10 / 21   (saying that appers 10 times over 21) = 0.4762  \n",
    ">- Confidence = support (X ∩ Y) / support (X) = 0.4762/0.6190 = 0.7693 that (≈) 0.77 \n",
    ">- Lift =  support (X ∩ Y) / support(X)* support(Y) =  0.4762 / (0.6190* 0.7142) = 1.077 (≈) 1.08\n",
    "\n",
    "We can see that the Confidence is quite big, that's saying that we have a lot of probabilty that when beer appers olives will appear too.\n",
    "Also we can cleary look at lift, this is the ratio between the observed support and the  expected support if X and Y were independent, this ratio in this case is greater than 1\n",
    "\n",
    "With this we can be sure that the values calculated with python are correct. And we can do in the same way with the other example."
   ]
  },
  {
   "cell_type": "markdown",
   "metadata": {},
   "source": [
    "# 2. Load and prepare the shopping baskets"
   ]
  },
  {
   "cell_type": "code",
   "execution_count": 5,
   "metadata": {},
   "outputs": [
    {
     "data": {
      "text/html": [
       "<div>\n",
       "<style scoped>\n",
       "    .dataframe tbody tr th:only-of-type {\n",
       "        vertical-align: middle;\n",
       "    }\n",
       "\n",
       "    .dataframe tbody tr th {\n",
       "        vertical-align: top;\n",
       "    }\n",
       "\n",
       "    .dataframe thead th {\n",
       "        text-align: right;\n",
       "    }\n",
       "</style>\n",
       "<table border=\"1\" class=\"dataframe\">\n",
       "  <thead>\n",
       "    <tr style=\"text-align: right;\">\n",
       "      <th></th>\n",
       "      <th>product_name</th>\n",
       "      <th>department_id</th>\n",
       "    </tr>\n",
       "    <tr>\n",
       "      <th>product_id</th>\n",
       "      <th></th>\n",
       "      <th></th>\n",
       "    </tr>\n",
       "  </thead>\n",
       "  <tbody>\n",
       "    <tr>\n",
       "      <th>1</th>\n",
       "      <td>Chocolate Sandwich Cookies</td>\n",
       "      <td>19</td>\n",
       "    </tr>\n",
       "    <tr>\n",
       "      <th>2</th>\n",
       "      <td>All-Seasons Salt</td>\n",
       "      <td>13</td>\n",
       "    </tr>\n",
       "    <tr>\n",
       "      <th>3</th>\n",
       "      <td>Robust Golden Unsweetened Oolong Tea</td>\n",
       "      <td>7</td>\n",
       "    </tr>\n",
       "    <tr>\n",
       "      <th>4</th>\n",
       "      <td>Smart Ones Classic Favorites Mini Rigatoni Wit...</td>\n",
       "      <td>1</td>\n",
       "    </tr>\n",
       "    <tr>\n",
       "      <th>5</th>\n",
       "      <td>Green Chile Anytime Sauce</td>\n",
       "      <td>13</td>\n",
       "    </tr>\n",
       "    <tr>\n",
       "      <th>...</th>\n",
       "      <td>...</td>\n",
       "      <td>...</td>\n",
       "    </tr>\n",
       "    <tr>\n",
       "      <th>96</th>\n",
       "      <td>Sprinklez Confetti Fun Organic Toppings</td>\n",
       "      <td>13</td>\n",
       "    </tr>\n",
       "    <tr>\n",
       "      <th>97</th>\n",
       "      <td>Organic Chamomile Lemon Tea</td>\n",
       "      <td>7</td>\n",
       "    </tr>\n",
       "    <tr>\n",
       "      <th>98</th>\n",
       "      <td>2% Yellow American Cheese</td>\n",
       "      <td>16</td>\n",
       "    </tr>\n",
       "    <tr>\n",
       "      <th>99</th>\n",
       "      <td>Local Living Butter Lettuce</td>\n",
       "      <td>4</td>\n",
       "    </tr>\n",
       "    <tr>\n",
       "      <th>100</th>\n",
       "      <td>Peanut Butter &amp; Strawberry Jam Sandwich</td>\n",
       "      <td>1</td>\n",
       "    </tr>\n",
       "  </tbody>\n",
       "</table>\n",
       "<p>100 rows × 2 columns</p>\n",
       "</div>"
      ],
      "text/plain": [
       "                                                 product_name  department_id\n",
       "product_id                                                                  \n",
       "1                                  Chocolate Sandwich Cookies             19\n",
       "2                                            All-Seasons Salt             13\n",
       "3                        Robust Golden Unsweetened Oolong Tea              7\n",
       "4           Smart Ones Classic Favorites Mini Rigatoni Wit...              1\n",
       "5                                   Green Chile Anytime Sauce             13\n",
       "...                                                       ...            ...\n",
       "96                    Sprinklez Confetti Fun Organic Toppings             13\n",
       "97                                Organic Chamomile Lemon Tea              7\n",
       "98                                  2% Yellow American Cheese             16\n",
       "99                                Local Living Butter Lettuce              4\n",
       "100                   Peanut Butter & Strawberry Jam Sandwich              1\n",
       "\n",
       "[100 rows x 2 columns]"
      ]
     },
     "execution_count": 5,
     "metadata": {},
     "output_type": "execute_result"
    }
   ],
   "source": [
    "# LEAVE AS-IS\n",
    "\n",
    "# File names\n",
    "INPUT_PRODUCTS = \"instacart-products.csv\"\n",
    "INPUT_TRANSACTIONS = \"instacart-transactions.csv.gz\"\n",
    "\n",
    "# Read into a dataframe\n",
    "products = pd.read_csv(INPUT_PRODUCTS, delimiter=\",\")\n",
    "\n",
    "# Set product_id as index, and drop column aisle_id\n",
    "products = products.set_index('product_id').drop(columns=['aisle_id'])\n",
    "\n",
    "products.head(100)"
   ]
  },
  {
   "cell_type": "markdown",
   "metadata": {},
   "source": [
    "## 2.1. Select by department"
   ]
  },
  {
   "cell_type": "code",
   "execution_count": 6,
   "metadata": {},
   "outputs": [],
   "source": [
    "# LEAVE AS-IS\n",
    "\n",
    "DEPT_BAKERY = 3\n",
    "DEPT_VEGGIES = 4\n",
    "DEPT_ALCOHOL = 5\n",
    "DEPT_WORLD = 6\n",
    "DEPT_DRINKS = 7\n",
    "DEPT_PETS = 8\n",
    "DEPT_PHARMACY = 11\n",
    "DEPT_CLEANING = 17\n",
    "DEPT_BABIES = 18"
   ]
  },
  {
   "cell_type": "code",
   "execution_count": 7,
   "metadata": {},
   "outputs": [],
   "source": [
    "departamentos = {\n",
    "    3: \"DEPT_BAKERY\",\n",
    "    4: \"DEPT_VEGGIES\",\n",
    "    5: \"DEPT_ALCOHOL\",\n",
    "    6: \"DEPT_WORLD\",\n",
    "    7: \"DEPT_DRINKS\",\n",
    "    8: \"DEPT_PETS\",\n",
    "    11: \"DEPT_PHARMACY\",\n",
    "    17: \"DEPT_CLEANING\",\n",
    "    18: \"DEPT_BABIES\"\n",
    "}"
   ]
  },
  {
   "cell_type": "code",
   "execution_count": 8,
   "metadata": {},
   "outputs": [],
   "source": [
    "def select_from_departments(products, products_ids, departments_ids):\n",
    "    selected_ids = []\n",
    "    for product_id in products_ids:\n",
    "        if products.loc[product_id].department_id in departments_ids:\n",
    "            selected_ids.append(product_id)\n",
    "    \n",
    "    \n",
    "    return selected_ids"
   ]
  },
  {
   "cell_type": "code",
   "execution_count": 13,
   "metadata": {},
   "outputs": [],
   "source": [
    "def test(products, products_ids, departments_ids):\n",
    "    print(\"-- Test case --\")\n",
    "    print(products_ids)\n",
    "    print(\"\\n-- Input products --\")\n",
    "    for product in products_ids:\n",
    "        print(product, products.loc[product].product_name, \"(dept\",products.loc[product].department_id,\")\")\n",
    "    selected = select_from_departments(products, products_ids, departments_ids)\n",
    "    print(\"\\n-- Selected products --\")\n",
    "    for product in selected:\n",
    "        print(product, products.loc[product].product_name, \"(dept\",products.loc[product].department_id,\")\")"
   ]
  },
  {
   "cell_type": "code",
   "execution_count": 14,
   "metadata": {},
   "outputs": [
    {
     "name": "stdout",
     "output_type": "stream",
     "text": [
      "-- Test case --\n",
      "[22, 26, 45, 54, 57, 71, 111, 112]\n",
      "\n",
      "-- Input products --\n",
      "22 Fresh Breath Oral Rinse Mild Mint (dept 11 )\n",
      "26 Fancy Feast Trout Feast Flaked Wet Cat Food (dept 8 )\n",
      "45 European Cucumber (dept 4 )\n",
      "54 24/7 Performance Cat Litter (dept 8 )\n",
      "57 Flat Toothpicks (dept 17 )\n",
      "71 Ultra 7 Inch Polypropylene Traditional Plates (dept 17 )\n",
      "111 Fabric Softener, Geranium Scent (dept 17 )\n",
      "112 Hot Tomatillo Salsa (dept 13 )\n",
      "\n",
      "-- Selected products --\n",
      "57 Flat Toothpicks (dept 17 )\n",
      "71 Ultra 7 Inch Polypropylene Traditional Plates (dept 17 )\n",
      "111 Fabric Softener, Geranium Scent (dept 17 )\n"
     ]
    }
   ],
   "source": [
    "# TEST 1\n",
    "ids = [22, 26, 45, 54, 57, 71, 111, 112]\n",
    "deps = [DEPT_BAKERY, DEPT_CLEANING]\n",
    "test(products, ids, deps)"
   ]
  },
  {
   "cell_type": "code",
   "execution_count": 17,
   "metadata": {},
   "outputs": [
    {
     "name": "stdout",
     "output_type": "stream",
     "text": [
      "-- Test case --\n",
      "[22, 26, 45, 54, 57, 71, 111, 112]\n",
      "\n",
      "-- Input products --\n",
      "22 Fresh Breath Oral Rinse Mild Mint (dept 11 )\n",
      "26 Fancy Feast Trout Feast Flaked Wet Cat Food (dept 8 )\n",
      "45 European Cucumber (dept 4 )\n",
      "54 24/7 Performance Cat Litter (dept 8 )\n",
      "57 Flat Toothpicks (dept 17 )\n",
      "71 Ultra 7 Inch Polypropylene Traditional Plates (dept 17 )\n",
      "111 Fabric Softener, Geranium Scent (dept 17 )\n",
      "112 Hot Tomatillo Salsa (dept 13 )\n",
      "\n",
      "-- Selected products --\n",
      "45 European Cucumber (dept 4 )\n"
     ]
    }
   ],
   "source": [
    "# TEST 2\n",
    "deps = [DEPT_VEGGIES, DEPT_WORLD]\n",
    "test(products, ids, deps)"
   ]
  },
  {
   "cell_type": "code",
   "execution_count": 19,
   "metadata": {},
   "outputs": [
    {
     "name": "stdout",
     "output_type": "stream",
     "text": [
      "-- Test case --\n",
      "[22, 26, 45, 54, 57, 71, 111, 112]\n",
      "\n",
      "-- Input products --\n",
      "22 Fresh Breath Oral Rinse Mild Mint (dept 11 )\n",
      "26 Fancy Feast Trout Feast Flaked Wet Cat Food (dept 8 )\n",
      "45 European Cucumber (dept 4 )\n",
      "54 24/7 Performance Cat Litter (dept 8 )\n",
      "57 Flat Toothpicks (dept 17 )\n",
      "71 Ultra 7 Inch Polypropylene Traditional Plates (dept 17 )\n",
      "111 Fabric Softener, Geranium Scent (dept 17 )\n",
      "112 Hot Tomatillo Salsa (dept 13 )\n",
      "\n",
      "-- Selected products --\n",
      "22 Fresh Breath Oral Rinse Mild Mint (dept 11 )\n"
     ]
    }
   ],
   "source": [
    "# TEST 3\n",
    "deps = [DEPT_ALCOHOL, DEPT_PHARMACY]\n",
    "test(products, ids, deps)"
   ]
  },
  {
   "cell_type": "markdown",
   "metadata": {},
   "source": [
    "## 2.2. Read and filter transactions"
   ]
  },
  {
   "cell_type": "code",
   "execution_count": 22,
   "metadata": {},
   "outputs": [],
   "source": [
    "def add_transactions_from_deps(reader,products,departments):\n",
    "    # Iterate through the CSV file\n",
    "    transactions = []\n",
    "    transactions_stored = 0\n",
    "    transactions_read = 0\n",
    "    for row in reader:\n",
    "        items = [int(x) for x in row]\n",
    "\n",
    "        selected_items = select_from_departments(products, items, departments)\n",
    "        \n",
    "\n",
    "        if selected_items != []:  # Check if its not empty\n",
    "            transactions.append(selected_items)\n",
    "            transactions_stored += 1\n",
    "            \n",
    "        transactions_read +=1\n",
    "            \n",
    "        if transactions_read % 1000 == 0:  # Just print each 1000 transictions\n",
    "            print(\"Transactions Read:\" ,transactions_read, \"  Transactions Stored:\", transactions_stored)\n",
    "            \n",
    "        if transactions_stored == 5000:  # To stop at exactly 5000\n",
    "            print(\"Transactions Read:\" ,transactions_read, \"  Transactions Stored:\", transactions_stored)\n",
    "            break\n",
    "            \n",
    "    return transactions"
   ]
  },
  {
   "cell_type": "code",
   "execution_count": 23,
   "metadata": {},
   "outputs": [
    {
     "name": "stdout",
     "output_type": "stream",
     "text": [
      "Transactions Read: 1000   Transactions Stored: 158\n",
      "Transactions Read: 2000   Transactions Stored: 311\n",
      "Transactions Read: 3000   Transactions Stored: 460\n",
      "Transactions Read: 4000   Transactions Stored: 598\n",
      "Transactions Read: 5000   Transactions Stored: 745\n",
      "Transactions Read: 6000   Transactions Stored: 902\n",
      "Transactions Read: 7000   Transactions Stored: 1067\n",
      "Transactions Read: 8000   Transactions Stored: 1206\n",
      "Transactions Read: 9000   Transactions Stored: 1373\n",
      "Transactions Read: 10000   Transactions Stored: 1515\n",
      "Transactions Read: 11000   Transactions Stored: 1670\n",
      "Transactions Read: 12000   Transactions Stored: 1807\n",
      "Transactions Read: 13000   Transactions Stored: 1951\n",
      "Transactions Read: 14000   Transactions Stored: 2102\n",
      "Transactions Read: 15000   Transactions Stored: 2245\n",
      "Transactions Read: 16000   Transactions Stored: 2384\n",
      "Transactions Read: 17000   Transactions Stored: 2543\n",
      "Transactions Read: 18000   Transactions Stored: 2692\n",
      "Transactions Read: 19000   Transactions Stored: 2840\n",
      "Transactions Read: 20000   Transactions Stored: 2974\n",
      "Transactions Read: 21000   Transactions Stored: 3125\n",
      "Transactions Read: 22000   Transactions Stored: 3267\n",
      "Transactions Read: 23000   Transactions Stored: 3407\n",
      "Transactions Read: 24000   Transactions Stored: 3578\n",
      "Transactions Read: 25000   Transactions Stored: 3748\n",
      "Transactions Read: 26000   Transactions Stored: 3891\n",
      "Transactions Read: 27000   Transactions Stored: 4028\n",
      "Transactions Read: 28000   Transactions Stored: 4164\n",
      "Transactions Read: 29000   Transactions Stored: 4304\n",
      "Transactions Read: 30000   Transactions Stored: 4421\n",
      "Transactions Read: 31000   Transactions Stored: 4560\n",
      "Transactions Read: 32000   Transactions Stored: 4700\n",
      "Transactions Read: 33000   Transactions Stored: 4837\n",
      "Transactions Read: 34000   Transactions Stored: 4974\n",
      "Transactions Read: 34203   Transactions Stored: 5000\n"
     ]
    }
   ],
   "source": [
    "transactions = []\n",
    "departments =[DEPT_CLEANING]\n",
    "# Open a compressed file\n",
    "with gzip.open(INPUT_TRANSACTIONS, \"rt\") as inputfile:\n",
    "    \n",
    "    # Create a CSV reader\n",
    "    reader = csv.reader(inputfile, delimiter=\",\")\n",
    "    # Iterate through the CSV file\n",
    "    transactions = add_transactions_from_deps(reader,products,[DEPT_CLEANING])\n"
   ]
  },
  {
   "cell_type": "markdown",
   "metadata": {},
   "source": [
    "## 2.3. Extract association rules and comment on them (DEPT_CLEANING)"
   ]
  },
  {
   "cell_type": "code",
   "execution_count": 15,
   "metadata": {},
   "outputs": [
    {
     "name": "stdout",
     "output_type": "stream",
     "text": [
      "Rules involving itemset [47865, 5047]\n",
      "['Easy Open TabsBags'] => ['Quart Storage Bags'] (support=0.0012, confidence=0.23, lift=38.46)\n",
      "\n",
      "Rules involving itemset [30290, 8021]\n",
      "['100% Recycled Bath Tissue Rolls'] => ['100% Recycled Paper Towels'] (support=0.0016, confidence=0.20, lift=3.69)\n",
      "\n",
      "Rules involving itemset [37357, 8021]\n",
      "['Natural Laundry Detergent, Free & Clear 33'] => ['100% Recycled Paper Towels'] (support=0.0010, confidence=0.21, lift=3.84)\n",
      "\n",
      "Rules involving itemset [31801, 21653]\n",
      "['Compostable Forks'] => ['9 Inch Plates'] (support=0.0010, confidence=0.25, lift=35.71)\n",
      "\n",
      "Rules involving itemset [41387, 21653]\n",
      "['Compostable Forks'] => ['Plastic Spoons'] (support=0.0016, confidence=0.40, lift=90.91)\n",
      "['Plastic Spoons'] => ['Compostable Forks'] (support=0.0016, confidence=0.36, lift=90.91)\n",
      "\n"
     ]
    }
   ],
   "source": [
    "results = list(apriori(transactions, min_support=0.001, min_confidence=0.2, min_lift=1))\n",
    "print_apyori_output(results, products, 'product_name')\n"
   ]
  },
  {
   "cell_type": "markdown",
   "metadata": {},
   "source": [
    "#### Comment:\n",
    "As we can see here we have some relations, this means that it is frequent to shoppers that buy the antecedent to buy also the consequence, in this case we put 0.2 of confidence to not get many results.\n",
    "- Based on the observed trend of products being related in customer transactions, I would recommend the Cleaning Department to consider storing these related products near each other on the same shelving. This arrangement can encourage customers to purchase pairs of related products, making their shopping experience more convenient and potentially increasing sales.\n",
    "\n",
    "Analizing the associations we can see that:\n",
    "\n",
    "> The **first** association,we can see that they are two type of bags\n",
    "The **second** association, we can see that there are two hygienic items can are bought togheter\n",
    "The **third** association, they are two disposable products that are normally used together\n",
    "The **fourth** and fifth association, could be a bidirectional asssociation, were its really common to buy them together in both orders. We can see that that the confidence is high here. The data shows that transactions tend to associate or include **products that are similar** or related to each other.\n",
    "\n"
   ]
  },
  {
   "cell_type": "markdown",
   "metadata": {},
   "source": [
    "## 2.4. Extract association rules and comment on them (other departments)"
   ]
  },
  {
   "cell_type": "code",
   "execution_count": 16,
   "metadata": {},
   "outputs": [
    {
     "name": "stdout",
     "output_type": "stream",
     "text": [
      "Transactions Read: 1000 Transactions Stored: 453\n",
      "Transactions Read: 2000 Transactions Stored: 901\n",
      "Transactions Read: 3000 Transactions Stored: 1395\n",
      "Transactions Read: 4000 Transactions Stored: 1872\n",
      "Transactions Read: 5000 Transactions Stored: 2326\n",
      "Transactions Read: 6000 Transactions Stored: 2785\n",
      "Transactions Read: 7000 Transactions Stored: 3256\n",
      "Transactions Read: 8000 Transactions Stored: 3743\n",
      "Transactions Read: 9000 Transactions Stored: 4190\n",
      "Transactions Read: 10000 Transactions Stored: 4667\n",
      "Transactions Read: 10644 Transactions Stored: 5000\n"
     ]
    }
   ],
   "source": [
    "transactions = []\n",
    "departments =[DEPT_ALCOHOL, DEPT_DRINKS]\n",
    "\n",
    "with gzip.open(INPUT_TRANSACTIONS, \"rt\") as inputfile:  \n",
    "    # Create a CSV reader\n",
    "    reader = csv.reader(inputfile, delimiter=\",\")\n",
    "    transactions = add_transactions_from_deps(reader,products,departments)"
   ]
  },
  {
   "cell_type": "code",
   "execution_count": 17,
   "metadata": {},
   "outputs": [
    {
     "name": "stdout",
     "output_type": "stream",
     "text": [
      "Rules involving itemset [44632, 14947]\n",
      "['Pure Sparkling Water'] => ['Sparkling Water Grapefruit'] (support=0.0058, confidence=0.26, lift=5.02)\n",
      "\n",
      "Rules involving itemset [21709, 35221]\n",
      "['Sparkling Lemon Water'] => ['Lime Sparkling Water'] (support=0.0056, confidence=0.29, lift=8.59)\n",
      "\n",
      "Rules involving itemset [44632, 21709]\n",
      "['Sparkling Lemon Water'] => ['Sparkling Water Grapefruit'] (support=0.0060, confidence=0.31, lift=5.95)\n",
      "\n",
      "Rules involving itemset [44632, 35221]\n",
      "['Lime Sparkling Water'] => ['Sparkling Water Grapefruit'] (support=0.0100, confidence=0.30, lift=5.72)\n",
      "\n"
     ]
    }
   ],
   "source": [
    "results = list(apriori(transactions, min_support=0.005, min_confidence=0.2, min_lift=1))\n",
    "print_apyori_output(results, products, 'product_name')"
   ]
  },
  {
   "cell_type": "markdown",
   "metadata": {},
   "source": [
    ">As I mentioned earlier, associations tend to link items that share similarities. In this case, it's evident that all the connections involve various kinds of flavored sparkling water.\n",
    "\n",
    ">Furthermore, we can observe that the confidence level falls within the range of 0.25 to 0.30\n",
    "\n"
   ]
  },
  {
   "cell_type": "code",
   "execution_count": 18,
   "metadata": {},
   "outputs": [
    {
     "name": "stdout",
     "output_type": "stream",
     "text": [
      "Transactions Read: 1000 Transactions Stored: 915\n",
      "Transactions Read: 2000 Transactions Stored: 1810\n",
      "Transactions Read: 3000 Transactions Stored: 2704\n",
      "Transactions Read: 4000 Transactions Stored: 3614\n",
      "Transactions Read: 5000 Transactions Stored: 4513\n",
      "Transactions Read: 5555 Transactions Stored: 5000\n"
     ]
    }
   ],
   "source": [
    "# First we will select diferent departments\n",
    "transactions = []\n",
    "departments =[DEPT_ALCOHOL, DEPT_VEGGIES,DEPT_BAKERY, DEPT_WORLD,DEPT_DRINKS]\n",
    "\n",
    "with gzip.open(INPUT_TRANSACTIONS, \"rt\") as inputfile:\n",
    "    \n",
    "    # Create a CSV reader\n",
    "    reader = csv.reader(inputfile, delimiter=\",\")\n",
    "    transactions = add_transactions_from_deps(reader,products,departments)\n",
    " \n"
   ]
  },
  {
   "cell_type": "code",
   "execution_count": 19,
   "metadata": {},
   "outputs": [
    {
     "name": "stdout",
     "output_type": "stream",
     "text": [
      "TRANSACTIONS WITH PRODUCTS FROM DIFERENT DEPARTMENTS:\n",
      "   - Bag of Organic Bananas from DEPT_VEGGIES and 100% Whole Wheat Bread from DEPT_BAKERY\n",
      "   - Banana from DEPT_VEGGIES and 100% Whole Wheat Bread from DEPT_BAKERY\n",
      "   - Banana from DEPT_VEGGIES and Sparkling Lemon Water from DEPT_DRINKS\n",
      "   - Banana from DEPT_VEGGIES and Lime Sparkling Water from DEPT_DRINKS\n"
     ]
    }
   ],
   "source": [
    "results = list(apriori(transactions, min_support=0.0025, min_confidence=0.2, min_lift=0.5))\n",
    "different_departments = []\n",
    "for res in results:   \n",
    "    departments_id = []\n",
    "    product_id =[]\n",
    "    my_frozenset = res.items\n",
    "    for value in my_frozenset:\n",
    "        departments_id.append(products.loc[value].department_id)\n",
    "        product_id.append(value)\n",
    "    #cambiar\n",
    "    unique_departments = set(departments_id)\n",
    "    if len(unique_departments) == len(departments_id):\n",
    "        #print(departments_id)\n",
    "        different_departments.append(product_id)\n",
    "        \n",
    "print(\"TRANSACTIONS WITH PRODUCTS FROM DIFERENT DEPARTMENTS:\")\n",
    "for item in different_departments:\n",
    "    print(\"   -\",products.loc[item[0]].product_name, \"from\", departamentos[products.loc[item[0]].department_id]\n",
    "          ,\"and\" ,products.loc[item[1]].product_name, \"from\",departamentos[products.loc[item[1]].department_id])"
   ]
  },
  {
   "cell_type": "markdown",
   "metadata": {},
   "source": [
    ">With this code we use the Apriori algorithm to mine association rules from a dataset of transactions. The goal is to find patterns or associations between products that appear together frequently in these transactions.\n",
    "The code essentially finds and prints transactions where customers buy products from different departments together, helping identify potentially interesting patterns or associations between products that might not be immediately obvious but have some significance."
   ]
  },
  {
   "cell_type": "markdown",
   "metadata": {},
   "source": [
    "<font size=\"+1\" color=\"#003300\">We hereby declare that, except for the code provided by the course instructors, all of my code, report, and figures were produced by myself.</font>"
   ]
  }
 ],
 "metadata": {
  "kernelspec": {
   "display_name": "Python 3 (ipykernel)",
   "language": "python",
   "name": "python3"
  },
  "language_info": {
   "codemirror_mode": {
    "name": "ipython",
    "version": 3
   },
   "file_extension": ".py",
   "mimetype": "text/x-python",
   "name": "python",
   "nbconvert_exporter": "python",
   "pygments_lexer": "ipython3",
   "version": "3.9.12"
  }
 },
 "nbformat": 4,
 "nbformat_minor": 4
}
