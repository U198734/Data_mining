{
 "cells": [
  {
   "cell_type": "markdown",
   "metadata": {},
   "source": [
    "<font size=\"+2\" color=\"blue\">Additional results: various ngram sizes</font>"
   ]
  },
  {
   "cell_type": "markdown",
   "metadata": {},
   "source": [
    "# Practice Session 03: Find near-duplicates using shingling"
   ]
  },
  {
   "cell_type": "markdown",
   "metadata": {},
   "source": [
    "Author: <font color=\"blue\">Marcel Fernández Serrano</font>\n",
    "\n",
    "E-mail: <font color=\"blue\">marcel.fernandez02@estudiant.upf.edu</font>\n",
    "\n",
    "Date: <font color=\"blue\">15/10/2023</font>"
   ]
  },
  {
   "cell_type": "code",
   "execution_count": 1,
   "metadata": {},
   "outputs": [],
   "source": [
    "import io\n",
    "import json\n",
    "import gzip\n",
    "import re\n",
    "import random\n",
    "import numpy as np\n",
    "import matplotlib.pyplot as plt\n",
    "from timeit import default_timer as timer\n",
    "import datetime"
   ]
  },
  {
   "cell_type": "code",
   "execution_count": 2,
   "metadata": {},
   "outputs": [
    {
     "name": "stdout",
     "output_type": "stream",
     "text": [
      "Read 10000 documents\n"
     ]
    }
   ],
   "source": [
    "# Input file\n",
    "INPUT_FILENAME = \"CovidLockdownCatalonia.json.gz\"\n",
    "\n",
    "# Array for storing messages\n",
    "messages = []\n",
    "MAX_MESSAGES = 10000\n",
    "\n",
    "with gzip.open(INPUT_FILENAME, \"rt\", encoding=\"utf-8\") as input_file:\n",
    "    \n",
    "    messages_read = 0\n",
    "    for line in input_file:\n",
    "            \n",
    "        # Read message\n",
    "        tweet = json.loads(line)\n",
    "\n",
    "        # Keep only messages in Catalan\n",
    "        if tweet[\"lang\"] == \"ca\":\n",
    "            \n",
    "            messages_read += 1\n",
    "            \n",
    "            if messages_read <= MAX_MESSAGES:\n",
    "                author = tweet[\"user\"][\"screen_name\"]\n",
    "                message = tweet[\"full_text\"]\n",
    "                messages.append(message)\n",
    "\n",
    "print(\"Read %d documents\" % len(messages))"
   ]
  },
  {
   "cell_type": "markdown",
   "metadata": {},
   "source": [
    "# 1. Auxiliary functions"
   ]
  },
  {
   "cell_type": "code",
   "execution_count": 3,
   "metadata": {},
   "outputs": [],
   "source": [
    "def jaccard_similarity(l1, l2):\n",
    "    set1 = set(l1)\n",
    "    set2 = set(l2)\n",
    "    jaccard_intersection= len(set1.intersection(set2))    # We want a number of the intersection\n",
    "    jaccard_union = len(set1.union(set2))                 # The union value (usually greater than insection, except when the two sets are equal then are the same)\n",
    "    if jaccard_intersection == 0 or jaccard_union == 0:   # Exception case \n",
    "        jaccard_similarity = 0 \n",
    "    else: \n",
    "        jaccard_similarity = jaccard_intersection / jaccard_union  # We apply the jaccard similarity formula\n",
    "    return jaccard_similarity"
   ]
  },
  {
   "cell_type": "code",
   "execution_count": 4,
   "metadata": {},
   "outputs": [
    {
     "name": "stdout",
     "output_type": "stream",
     "text": [
      "- First exemple  --> Jaccard coef: 0.667\n",
      "- Second exemple --> Jaccard coef: 0.75\n",
      "- Third exemple  --> Jaccard coef: 1.0\n",
      "- Fourth exemple --> Jaccard coef: 0\n"
     ]
    }
   ],
   "source": [
    "# Jaccard tests : \n",
    "# Example 1\n",
    "x1=[1,2,3]\n",
    "y1=[1,2]\n",
    "print('- First exemple  --> Jaccard coef:',round(jaccard_similarity(x1,y1),3))\n",
    "\n",
    "# Example 2\n",
    "x2=[0, 2, 1, 0, 3]\n",
    "y2=[1, 2, 0, 0, 0]\n",
    "print('- Second exemple --> Jaccard coef:',jaccard_similarity(x2,y2))\n",
    "# Example 3\n",
    "x3=[1,2,3]\n",
    "y3=[1,2,3]\n",
    "print('- Third exemple  --> Jaccard coef:',jaccard_similarity(x3,y3))\n",
    "\n",
    "# Example 4\n",
    "x4=[] # Empty sets\n",
    "y4=[]\n",
    "print('- Fourth exemple --> Jaccard coef:',jaccard_similarity(x4,y4))\n"
   ]
  },
  {
   "cell_type": "code",
   "execution_count": 5,
   "metadata": {},
   "outputs": [],
   "source": [
    "import unicodedata\n",
    "def clean(text):\n",
    "    text = re.sub(r'^RT\\s+', '', text)  #re.sub(pattern, repl, string, count=0, flags=0)\n",
    "    \n",
    "    text = text.lower()     # Converting to lowercase\n",
    "\n",
    "    text = ''.join([unicodedata.normalize(\"NFKD\", char) for char in text])  # Take care of \"ç\",\"ñ\",\"l·l\" and all type of accents 'ù','í'...\n",
    "\n",
    "    # Removing URLs (both http and https)\n",
    "    text = re.sub(r'https?://\\S+', '', text)\n",
    "\n",
    "    # Removing spaces at the beginning and end\n",
    "    text = text.strip()\n",
    "\n",
    "    # Removing anything that is not a letter or digit\n",
    "    text = re.sub(r'[^a-zA-Z0-9\\s]', '', text)\n",
    "\n",
    "    # Changing double spaces to single spaces\n",
    "    text = re.sub(r'\\s+', ' ', text)\n",
    "\n",
    "    return text"
   ]
  },
  {
   "cell_type": "code",
   "execution_count": 11,
   "metadata": {},
   "outputs": [
    {
     "name": "stdout",
     "output_type": "stream",
     "text": [
      "- First exemple before =   RT i love data mining  \n",
      "- After clean =  i love data mining\n",
      "\n",
      "- Second exemple before =   I LOVE DATA MINING i m'encanta mirar pel·licules  ¨¨¨¨¨¨¨¨\n",
      "- After clean =  i love data mining i mencanta mirar pellicules \n",
      "\n",
      "- Third exemple before =    ñññññòòóóóóààáá ççç l·l·l \n",
      "- After clean =  nnnnnooooooaaaa ccc lll\n",
      "\n",
      "- Fourth exemple before =    https://www.linkedin.com/in/marcel-fern%C3%A1ndez-serrano follow me in linkedin! \n",
      "- After clean =  follow me in linkedin\n",
      "\n",
      "- Fifth exemple before =   Hi          my name ís Jaume \n",
      "- After clean =  hi my name is jaume\n"
     ]
    }
   ],
   "source": [
    "# Example usage:\n",
    "dirty_text1 = \"RT i love data mining  \"\n",
    "cleaned_text1 = clean(dirty_text1)\n",
    "print('- First exemple before =  ',dirty_text1)\n",
    "print('- After clean = ',cleaned_text1)\n",
    "print()\n",
    "\n",
    "dirty_text2 = \" I LOVE DATA MINING i m'encanta mirar pel·licules  ¨¨¨¨¨¨¨¨\"\n",
    "cleaned_text2 = clean(dirty_text2)\n",
    "print('- Second exemple before = ', dirty_text2)\n",
    "print('- After clean = ',cleaned_text2)\n",
    "print()\n",
    "\n",
    "dirty_text3 = \" ñññññòòóóóóààáá ççç l·l·l \"\n",
    "cleaned_text3 = clean(dirty_text3)\n",
    "print('- Third exemple before =  ',dirty_text3)\n",
    "print('- After clean = ',cleaned_text3)\n",
    "print()\n",
    "\n",
    "dirty_text4 = \" https://www.linkedin.com/in/marcel-fern%C3%A1ndez-serrano follow me in linkedin! \"\n",
    "cleaned_text4 = clean(dirty_text4)\n",
    "print('- Fourth exemple before =  ',dirty_text4)\n",
    "print('- After clean = ',cleaned_text4)\n",
    "print()\n",
    "\n",
    "dirty_text5 = \" Hi          my name ís Jaume \"\n",
    "cleaned_text5 = clean(dirty_text5)\n",
    "print('- Fifth exemple before = ',dirty_text5)\n",
    "print('- After clean = ',cleaned_text5)\n"
   ]
  },
  {
   "cell_type": "markdown",
   "metadata": {},
   "source": [
    "# 2. Implement an n-gram extractor"
   ]
  },
  {
   "cell_type": "code",
   "execution_count": 12,
   "metadata": {},
   "outputs": [],
   "source": [
    "def remove_short_words(text, min_tokens=2):\n",
    "    words = text.split()\n",
    "    filtered_words = []\n",
    "    for word in words:\n",
    "        if len(word) >= min_tokens:\n",
    "            filtered_words.append(word)\n",
    "    filtered_text = ' '.join(filtered_words)  \n",
    "    return filtered_text\n"
   ]
  },
  {
   "cell_type": "code",
   "execution_count": 13,
   "metadata": {},
   "outputs": [],
   "source": [
    "def ngrams(text, size):\n",
    "    MIN_TOKEN_LENGTH = 3\n",
    "    tokens = remove_short_words(clean(text),min_tokens = MIN_TOKEN_LENGTH).split()\n",
    "    ngrams = []\n",
    "    for i in range(0,len(tokens)+1-size):\n",
    "        ngram = ' '.join(tokens[i:i+size])\n",
    "        ngram_tokens = ngram.split()            \n",
    "        ngrams.append(ngram)\n",
    "    return ngrams"
   ]
  },
  {
   "cell_type": "code",
   "execution_count": 15,
   "metadata": {},
   "outputs": [
    {
     "name": "stdout",
     "output_type": "stream",
     "text": [
      "We check that it really works well:\n",
      "____________________________________________________________________________________________________________________________________________\n",
      "RT @diariARA: Comerciants xinesos donen mascaretes i gel antisèptic a Badalona per lluitar contra el coronavirus https://t.co/ybYXFxphIu\n",
      "____________________________________________________________________________________________________________________________________________\n",
      "Ngrams: (Shingling)\n",
      "____________________________________________________________________________________________________________________________________________\n",
      "['diariara comerciants xinesos', 'comerciants xinesos donen', 'xinesos donen mascaretes', 'donen mascaretes gel', 'mascaretes gel antiseptic', 'gel antiseptic badalona', 'antiseptic badalona per', 'badalona per lluitar', 'per lluitar contra', 'lluitar contra coronavirus']\n",
      "____________________________________________________________________________________________________________________________________________\n"
     ]
    }
   ],
   "source": [
    "# Testing the function\n",
    "print(\"We check that it really works well:\")\n",
    "print(\"_\"*140)\n",
    "print(messages[9780])\n",
    "print(\"_\"*140)\n",
    "\n",
    "print(\"Ngrams: (Shingling)\")\n",
    "print(\"_\"*140)\n",
    "print(ngrams(messages[9780], 3))\n",
    "print(\"_\"*140)\n"
   ]
  },
  {
   "cell_type": "markdown",
   "metadata": {},
   "source": [
    "# 3. Estimation for brute force method"
   ]
  },
  {
   "cell_type": "code",
   "execution_count": 16,
   "metadata": {},
   "outputs": [],
   "source": [
    "# LEAVE AS-IS\n",
    "\n",
    "def time_brute_force_similarities(messages, limit, ngram_size):\n",
    "    if limit > len(messages):\n",
    "        raise ValueError(\"Limit should be less than or equal than the number of messages\")\n",
    "        \n",
    "    # Start a timer\n",
    "    start = timer()\n",
    "\n",
    "    # Iterate through document identifiers\n",
    "    for docid1 in range(np.min([len(messages), limit])):\n",
    "\n",
    "        # Clean document 1 and extract ngrams\n",
    "        doc1 = clean(messages[docid1])\n",
    "        ngrams1 = ngrams(doc1, ngram_size)\n",
    "\n",
    "        # Iterate through document identifiers larger than doc2\n",
    "        for docid2 in range(docid1+1, np.min([len(messages), limit])):\n",
    "                         \n",
    "            # Clean document 2 and extract ngrams\n",
    "            doc2 = clean(messages[docid2])\n",
    "            ngrams2 = ngrams(doc2, ngram_size)\n",
    "\n",
    "            # Compute similarity\n",
    "            similarity = jaccard_similarity(ngrams1, ngrams2)\n",
    "\n",
    "    end = timer()\n",
    "    return(end - start)"
   ]
  },
  {
   "cell_type": "code",
   "execution_count": 40,
   "metadata": {},
   "outputs": [
    {
     "data": {
      "image/png": "[encoded data removed]",
      "text/plain": [
       "<Figure size 720x432 with 1 Axes>"
      ]
     },
     "metadata": {
      "needs_background": "light"
     },
     "output_type": "display_data"
    }
   ],
   "source": [
    "# This plot takes time to plot it\n",
    "num_messages_to_check = []\n",
    "processing_times = []\n",
    "x_values = list(range(1, 2002, 150))\n",
    "\n",
    "for num_messages in x_values:    \n",
    "    processing_time = time_brute_force_similarities(messages, num_messages, ngram_size=4)\n",
    "    num_messages_to_check.append(num_messages)\n",
    "    processing_times.append(processing_time)\n",
    "\n",
    "plt.figure(figsize=(10, 6))\n",
    "plt.plot(num_messages_to_check, processing_times, marker='o')\n",
    "plt.title(\"Time vs. Number of Messages to Check\")\n",
    "plt.xlabel(\"Number of Messages to Check\")\n",
    "plt.ylabel(\"Time (seconds)\")\n",
    "plt.grid(True)\n",
    "plt.show()"
   ]
  },
  {
   "cell_type": "markdown",
   "metadata": {},
   "source": [
    "In case that the execution takes long time I leave the output of the code to save your time:\n",
    "\n",
    "![image.png](attachment:cfa568de-6ad0-426b-b9c6-aeb332d4e417.png)"
   ]
  },
  {
   "cell_type": "markdown",
   "metadata": {},
   "source": [
    "- If we look at the plot we can see a very important characteristic related to the execution time, it is quadratic/exponencial growth. This means that as the number of messages that we have to check increases, the time it takes to perform this task increases a lot, which is not very good since anything that has an exponential scale as the number of data increases time to inspect increases disproportionately.\n",
    "- This happens to use a brute force algorithm, these types of algorithms are the least efficient in relation to the computing level because they do all types of verification and this makes the time increasingly longer.\n",
    "- For the entire input matrix the limit we should pass to the function is 10000, the following code calculates the expected value of time it will take to process the entire matrix, we will see that it's gonna take long time."
   ]
  },
  {
   "cell_type": "code",
   "execution_count": 19,
   "metadata": {},
   "outputs": [
    {
     "name": "stdout",
     "output_type": "stream",
     "text": [
      "Estimated time in hours   ---> 1.615 h\n",
      "Estimated time in minutes ---> 96.881 mins\n",
      "Estimated time in seconds ---> 5812.859 s\n"
     ]
    }
   ],
   "source": [
    "def find_quadratic_parameters(point1, point2):\n",
    "    # Unpack the coordinates of the two points\n",
    "    x1, y1 = point1\n",
    "    x2, y2 = point2\n",
    "    \n",
    "    # Calculate the coefficients of the quadratic equation\n",
    "    a = (y1 * x2 - y2 * x1) / ((x1**2) * x2 - (x2**2) * x1)\n",
    "    b = (y1 - a * (x1**2)) / x1\n",
    "    c = 0  # Assume c = 0 for your case\n",
    "    \n",
    "    # Return the quadratic parameters\n",
    "    return a, b, c\n",
    "\n",
    "def expected_value(point1, point2, x):\n",
    "    a, b, c = find_quadratic_parameters(point1, point2)\n",
    "    y = a * (x**2) + b * x + c\n",
    "    return y\n",
    "time_takes_input_mat = expected_value((x_values[10],processing_times[10]), (x_values[12], processing_times[12]),10000) \n",
    "\n",
    "print(\"Estimated time in hours   --->\",round(time_takes_input_mat/3600,3),\"h\")\n",
    "print(\"Estimated time in minutes --->\",round(time_takes_input_mat/60,3),\"mins\")\n",
    "print(\"Estimated time in seconds --->\",round(time_takes_input_mat,3),\"s\") "
   ]
  },
  {
   "cell_type": "markdown",
   "metadata": {},
   "source": [
    "# 4. Computing the doc-ngram matrix"
   ]
  },
  {
   "cell_type": "markdown",
   "metadata": {},
   "source": [
    "## 4.1 Create list of all ngrams"
   ]
  },
  {
   "cell_type": "code",
   "execution_count": 21,
   "metadata": {},
   "outputs": [
    {
     "name": "stdout",
     "output_type": "stream",
     "text": [
      "There are 111347 distinct ngrams in the 10000 documents\n"
     ]
    }
   ],
   "source": [
    "ngram_size = 4\n",
    "ngram_to_index = {}\n",
    "index_to_ngram = {}\n",
    "next_index = 0\n",
    "\n",
    "for message in messages:\n",
    "    all_ngrams = ngrams(message, ngram_size)\n",
    "    for ngram in all_ngrams:\n",
    "        #if ngram not in ngram_to_index:  --> this is if we dont want to have dupplicated documents\n",
    "        ngram_to_index[ngram] = next_index\n",
    "        index_to_ngram[next_index] = ngram\n",
    "        next_index +=1\n",
    "num_distinct_ngrams = next_index\n",
    "\n",
    "print(\"There are %d distinct ngrams in the %d documents\" % (num_distinct_ngrams, len(messages)))"
   ]
  },
  {
   "cell_type": "code",
   "execution_count": 41,
   "metadata": {},
   "outputs": [
    {
     "name": "stdout",
     "output_type": "stream",
     "text": [
      "Index of 'govern tancat escoles fins': 41155\n",
      "Index of 'aforament per garantir seguretat': 46121\n",
      "Ngram for index 41155: 'govern tancat escoles fins'\n",
      "Ngram for index 46121: 'aforament per garantir seguretat'\n"
     ]
    }
   ],
   "source": [
    "# Example ngrams\n",
    "ngram1 = \"govern tancat escoles fins\" # We did change because there was an error !!! 4 words to do han example\n",
    "ngram2 = \"aforament per garantir seguretat\"\n",
    "\n",
    "# Find the indices of the example ngrams\n",
    "index_ngram1 = ngram_to_index.get(ngram1, None)\n",
    "index_ngram2 = ngram_to_index.get(ngram2, None)\n",
    "\n",
    "# We take care of the error\n",
    "if index_ngram1 is not None and index_ngram2 is not None: \n",
    "    # Print the indices\n",
    "    print(\"Index of '%s': %d\" % (ngram1, index_ngram1))\n",
    "    print(\"Index of '%s': %d\" % (ngram2, index_ngram2))\n",
    "\n",
    "    # Retrieve the ngrams from the indices\n",
    "    retrieved_ngram1 = index_to_ngram.get(index_ngram1, None)\n",
    "    retrieved_ngram2 = index_to_ngram.get(index_ngram2, None)\n",
    "\n",
    "    if retrieved_ngram1 is not None and retrieved_ngram2 is not None:\n",
    "        # Print the retrieved ngrams\n",
    "        print(\"Ngram for index %d: '%s'\" % (index_ngram1, retrieved_ngram1))\n",
    "        print(\"Ngram for index %d: '%s'\" % (index_ngram2, retrieved_ngram2))\n",
    "    else:\n",
    "        print(\"One or both of the indices do not exist in the index_to_ngram dictionary.\")\n",
    "else:\n",
    "    print(\"One or both of the ngrams do not exist in the ngram_to_index dictionary.\")"
   ]
  },
  {
   "cell_type": "markdown",
   "metadata": {},
   "source": [
    "## 2.2 Create table ngrams x documents"
   ]
  },
  {
   "cell_type": "code",
   "execution_count": 24,
   "metadata": {},
   "outputs": [
    {
     "name": "stdout",
     "output_type": "stream",
     "text": [
      "Matrix dimensions: 111347 rows (distinct shingles) x 10000 columns (distinct documents)\n"
     ]
    }
   ],
   "source": [
    "# LEAVE AS-IS\n",
    "\n",
    "# Create dense matrix in which every cell contains the value \"False\"\n",
    "M_ngram_doc = np.full((num_distinct_ngrams, len(messages)), False)\n",
    "\n",
    "# Print the number of rows and columns of this matrix\n",
    "# numpy.matrix.shape is a tuple, shape[0] is the number of rows, shape[1] the number of columns\n",
    "print(\"Matrix dimensions: %d rows (distinct shingles) x %d columns (distinct documents)\" % M_ngram_doc.shape)"
   ]
  },
  {
   "cell_type": "code",
   "execution_count": 25,
   "metadata": {},
   "outputs": [],
   "source": [
    "for docid in range(len(messages)):\n",
    "    message = messages[docid]\n",
    "    all_ngrams = ngrams(message, ngram_size)\n",
    "    for ngram in all_ngrams:\n",
    "        M_ngram_doc[ngram_to_index[ngram], docid] = True"
   ]
  },
  {
   "cell_type": "code",
   "execution_count": 42,
   "metadata": {},
   "outputs": [
    {
     "name": "stdout",
     "output_type": "stream",
     "text": [
      "Density of the M_ngram_doc matrix: 0.010%\n"
     ]
    }
   ],
   "source": [
    "M_ngram_doc = np.array(M_ngram_doc) # We convert to a numpy array to operate faster\n",
    "\n",
    "# Count the number of non-zero elements in the matrix\n",
    "num_non_zero_elements = np.count_nonzero(M_ngram_doc)\n",
    "\n",
    "# Calculate the total number of cells in the matrix\n",
    "total_cells = M_ngram_doc.size\n",
    "\n",
    "# Calculate the density as a percentage\n",
    "density_percentage = (num_non_zero_elements / total_cells) * 100\n",
    "print(\"Density of the M_ngram_doc matrix: %.3f%%\" % density_percentage)\n"
   ]
  },
  {
   "cell_type": "code",
   "execution_count": 46,
   "metadata": {},
   "outputs": [],
   "source": [
    "def print_row(row_id):\n",
    "    message = messages[row_id]\n",
    "    doc = M_ngram_doc[:, row_id]\n",
    "    separator_line = \"_\" * 100  # Use a shorter line for separation\n",
    "\n",
    "    print(separator_line)\n",
    "    print(\"POSITIONS OF NON-ZEROES IN DOCUMENT:\")\n",
    "    positions = [i for i in range(len(doc)) if doc[i]]\n",
    "    print(positions)\n",
    "\n",
    "    print(separator_line)\n",
    "    print(\"ORIGINAL DOCUMENT:\")\n",
    "    print(message)\n",
    "    print(separator_line)\n",
    "\n",
    "    print(\"CLEAN MESSAGE:\")\n",
    "    cleaned_message = clean(message)\n",
    "    print(cleaned_message)\n",
    "    print(separator_line)\n",
    "\n",
    "    print(\"NON-ZEROES IN CORRESPONDING ROWS:\")\n",
    "    non_zeroes = [(i, index_to_ngram[i]) for i in range(len(doc)) if doc[i]]\n",
    "    print(non_zeroes)\n",
    "    print(separator_line)"
   ]
  },
  {
   "cell_type": "code",
   "execution_count": 47,
   "metadata": {},
   "outputs": [
    {
     "name": "stdout",
     "output_type": "stream",
     "text": [
      "____________________________________________________________________________________________________\n",
      "POSITIONS OF NON-ZEROES IN DOCUMENT:\n",
      "[111289, 111290, 111291, 111292, 111293, 111294, 111295, 111296, 111297]\n",
      "____________________________________________________________________________________________________\n",
      "ORIGINAL DOCUMENT:\n",
      "RT @emergenciescat: Què puc fer i que no? FAQs del #coronavirus a 14 de març. si us plau, demanem difusió. https://t.co/D5HNxwYjwK\n",
      "____________________________________________________________________________________________________\n",
      "CLEAN MESSAGE:\n",
      "emergenciescat que puc fer i que no faqs del coronavirus a 14 de marc si us plau demanem difusio\n",
      "____________________________________________________________________________________________________\n",
      "NON-ZEROES IN CORRESPONDING ROWS:\n",
      "[(111289, 'emergenciescat que puc fer'), (111290, 'que puc fer que'), (111291, 'puc fer que faqs'), (111292, 'fer que faqs del'), (111293, 'que faqs del coronavirus'), (111294, 'faqs del coronavirus marc'), (111295, 'del coronavirus marc plau'), (111296, 'coronavirus marc plau demanem'), (111297, 'marc plau demanem difusio')]\n",
      "____________________________________________________________________________________________________\n"
     ]
    }
   ],
   "source": [
    "# FIRST TEST\n",
    "print_row(9602)"
   ]
  },
  {
   "cell_type": "code",
   "execution_count": 48,
   "metadata": {},
   "outputs": [
    {
     "name": "stdout",
     "output_type": "stream",
     "text": [
      "____________________________________________________________________________________________________\n",
      "POSITIONS OF NON-ZEROES IN DOCUMENT:\n",
      "[104392, 104403, 104855, 104856, 104857, 105956, 105957, 105958, 109765, 109766, 109767, 109768]\n",
      "____________________________________________________________________________________________________\n",
      "ORIGINAL DOCUMENT:\n",
      "RT @hospiolot: ❕Usem de forma responsable els recursos sanitaris:\n",
      "\n",
      "📞061➡️ Urgències per #coronavirus i sanitàries\n",
      "\n",
      "📞012➡️ Consultes general…\n",
      "____________________________________________________________________________________________________\n",
      "CLEAN MESSAGE:\n",
      "hospiolot usem de forma responsable els recursos sanitaris 061 urgencies per coronavirus i sanitaries 012 consultes general\n",
      "____________________________________________________________________________________________________\n",
      "NON-ZEROES IN CORRESPONDING ROWS:\n",
      "[(104392, 'hospiolot usem forma responsable'), (104403, 'sanitaries 012 consultes general'), (104855, 'els recursos sanitaris 061'), (104856, 'recursos sanitaris 061 urgencies'), (104857, 'sanitaris 061 urgencies per'), (105956, 'usem forma responsable els'), (105957, 'forma responsable els recursos'), (105958, 'responsable els recursos sanitaris'), (109765, '061 urgencies per coronavirus'), (109766, 'urgencies per coronavirus sanitaries'), (109767, 'per coronavirus sanitaries 012'), (109768, 'coronavirus sanitaries 012 consultes')]\n",
      "____________________________________________________________________________________________________\n"
     ]
    }
   ],
   "source": [
    "# SECOND TEST\n",
    "print_row(941)"
   ]
  },
  {
   "cell_type": "markdown",
   "metadata": {},
   "source": [
    "# 3. Implement a permutation generator"
   ]
  },
  {
   "cell_type": "code",
   "execution_count": 49,
   "metadata": {},
   "outputs": [],
   "source": [
    "def random_permutation(k):\n",
    "    permutation = list(range(k))     # We create a list of integers from 0 to k-1\n",
    "    random.shuffle(permutation)\n",
    "    return permutation"
   ]
  },
  {
   "cell_type": "code",
   "execution_count": 53,
   "metadata": {},
   "outputs": [
    {
     "name": "stdout",
     "output_type": "stream",
     "text": [
      "First test -> [5, 1, 7, 9, 4, 3, 0, 2, 8, 6]\n",
      "Second test -> [16, 5, 12, 3, 7, 8, 18, 6, 14, 15, 4, 10, 2, 17, 11, 19, 1, 0, 13, 9]\n"
     ]
    }
   ],
   "source": [
    "# Some tests to chech that its going well\n",
    "k = 10\n",
    "perm = random_permutation(k)\n",
    "print('First test ->', perm)\n",
    "k = 20\n",
    "perm = random_permutation(k)\n",
    "print('Second test ->',perm)"
   ]
  },
  {
   "cell_type": "code",
   "execution_count": 51,
   "metadata": {},
   "outputs": [
    {
     "name": "stdout",
     "output_type": "stream",
     "text": [
      "Test one permutation:\n",
      "['3 (test3)', '5 (test5)', '1 (test1)', '4 (test4)', '2 (test2)']\n",
      "['3 (beta)', '5 (epsilon)', '1 (alpha)', '4 (delta)', '2 (gamma)']\n",
      "\n",
      "Test another permutation\n",
      "['5 (test5)', '1 (test1)', '4 (test4)', '2 (test2)', '3 (test3)']\n",
      "['5 (epsilon)', '1 (alpha)', '4 (delta)', '2 (gamma)', '3 (beta)']\n"
     ]
    }
   ],
   "source": [
    "# LEAVE AS-IS\n",
    "\n",
    "# Permute a list according to a permutation\n",
    "def permuter(original_list, permutation):\n",
    "    permuted_list = []\n",
    "    for index in permutation:\n",
    "        permuted_list.append(original_list[index])\n",
    "    return permuted_list\n",
    "\n",
    "# Code for testing permutations\n",
    "original_list_1 = [\"1 (test1)\", \"2 (test2)\", \"3 (test3)\", \"4 (test4)\", \"5 (test5)\"]\n",
    "original_list_2 = [\"1 (alpha)\", \"2 (gamma)\", \"3 (beta)\", \"4 (delta)\", \"5 (epsilon)\"]\n",
    "\n",
    "print(\"Test one permutation:\")\n",
    "permutation_1 = random_permutation(5)\n",
    "print(permuter(original_list_1, permutation_1))\n",
    "print(permuter(original_list_2, permutation_1))\n",
    "\n",
    "print()\n",
    "\n",
    "print(\"Test another permutation\")\n",
    "permutation_2 = random_permutation(5)\n",
    "print(permuter(original_list_1, permutation_2))\n",
    "print(permuter(original_list_2, permutation_2))"
   ]
  },
  {
   "cell_type": "markdown",
   "metadata": {},
   "source": [
    "# 4. Compute the signature of each document"
   ]
  },
  {
   "cell_type": "code",
   "execution_count": null,
   "metadata": {},
   "outputs": [
    {
     "name": "stdout",
     "output_type": "stream",
     "text": [
      "Permutation 0: 50651, 14088, 29899, ...\n",
      "Permutation 1: 98513, 77950, 71470, ...\n",
      "Permutation 2: 70298, 26520, 63351, ...\n",
      "Permutation 3: 93600, 97563, 10460, ...\n",
      "Permutation 4: 18911, 51058, 56475, ...\n"
     ]
    }
   ],
   "source": [
    "# Leave this code as-is\n",
    "\n",
    "NUM_PERMUTATIONS = 5\n",
    "\n",
    "permutations = []\n",
    "\n",
    "# Create the permutations\n",
    "for i in range(NUM_PERMUTATIONS):\n",
    "    permutation = random_permutation(num_distinct_ngrams)\n",
    "    permutations.append(random_permutation(num_distinct_ngrams))\n",
    "    \n",
    "# Visualize the permutations by printing their first 3 elements\n",
    "for i in range(len(permutations)):\n",
    "    permutation = permutations[i]\n",
    "    print(\"Permutation %d: %d, %d, %d, ...\" % (i, permutation[0], permutation[1], permutation[2] ))"
   ]
  },
  {
   "cell_type": "code",
   "execution_count": 31,
   "metadata": {},
   "outputs": [
    {
     "name": "stdout",
     "output_type": "stream",
     "text": [
      "Creating signatures for permutation 1/5\n",
      "- Scanning document 0 of 10000\n",
      "- Scanning document 1000 of 10000\n",
      "- Scanning document 2000 of 10000\n",
      "- Scanning document 3000 of 10000\n",
      "- Scanning document 4000 of 10000\n",
      "- Scanning document 5000 of 10000\n",
      "- Scanning document 6000 of 10000\n",
      "- Scanning document 7000 of 10000\n",
      "- Scanning document 8000 of 10000\n",
      "- Scanning document 9000 of 10000\n",
      "Creating signatures for permutation 2/5\n",
      "- Scanning document 0 of 10000\n",
      "- Scanning document 1000 of 10000\n",
      "- Scanning document 2000 of 10000\n",
      "- Scanning document 3000 of 10000\n",
      "- Scanning document 4000 of 10000\n",
      "- Scanning document 5000 of 10000\n",
      "- Scanning document 6000 of 10000\n",
      "- Scanning document 7000 of 10000\n",
      "- Scanning document 8000 of 10000\n",
      "- Scanning document 9000 of 10000\n",
      "Creating signatures for permutation 3/5\n",
      "- Scanning document 0 of 10000\n",
      "- Scanning document 1000 of 10000\n",
      "- Scanning document 2000 of 10000\n",
      "- Scanning document 3000 of 10000\n",
      "- Scanning document 4000 of 10000\n",
      "- Scanning document 5000 of 10000\n",
      "- Scanning document 6000 of 10000\n",
      "- Scanning document 7000 of 10000\n",
      "- Scanning document 8000 of 10000\n",
      "- Scanning document 9000 of 10000\n",
      "Creating signatures for permutation 4/5\n",
      "- Scanning document 0 of 10000\n",
      "- Scanning document 1000 of 10000\n",
      "- Scanning document 2000 of 10000\n",
      "- Scanning document 3000 of 10000\n",
      "- Scanning document 4000 of 10000\n",
      "- Scanning document 5000 of 10000\n",
      "- Scanning document 6000 of 10000\n",
      "- Scanning document 7000 of 10000\n",
      "- Scanning document 8000 of 10000\n",
      "- Scanning document 9000 of 10000\n",
      "Creating signatures for permutation 5/5\n",
      "- Scanning document 0 of 10000\n",
      "- Scanning document 1000 of 10000\n",
      "- Scanning document 2000 of 10000\n",
      "- Scanning document 3000 of 10000\n",
      "- Scanning document 4000 of 10000\n",
      "- Scanning document 5000 of 10000\n",
      "- Scanning document 6000 of 10000\n",
      "- Scanning document 7000 of 10000\n",
      "- Scanning document 8000 of 10000\n",
      "- Scanning document 9000 of 10000\n"
     ]
    }
   ],
   "source": [
    "# Initialize the M_signature_doc matrix\n",
    "M_signature_doc = np.full((NUM_PERMUTATIONS, len(messages)), np.nan)\n",
    "\n",
    "# Find the first ngram in a document, according to a permutation\n",
    "def find_first_one(docid, permutation):\n",
    "    for shingle_id in permutation:\n",
    "        if M_ngram_doc[shingle_id, docid]:\n",
    "            return shingle_id\n",
    "    return -1\n",
    "\n",
    "# Create signatures for each permutation\n",
    "for permutation_num in range(NUM_PERMUTATIONS):\n",
    "    print(\"Creating signatures for permutation %d/%d\" % (permutation_num + 1, NUM_PERMUTATIONS))\n",
    "    permutation = permutations[permutation_num]\n",
    "    for docid in range(len(messages)):\n",
    "        if docid % 1000 == 0:\n",
    "            print(\"- Scanning document %d of %d\" % (docid, len(messages)))\n",
    "        # Find the first ngram for the current document and permutation\n",
    "        first_ngram = find_first_one(docid, permutation)\n",
    "        if first_ngram != -1:\n",
    "            M_signature_doc[permutation_num, docid] = first_ngram"
   ]
  },
  {
   "cell_type": "code",
   "execution_count": 32,
   "metadata": {},
   "outputs": [
    {
     "name": "stdout",
     "output_type": "stream",
     "text": [
      "Document #385\n",
      "Message       : RT @gencat: 🔴 El @govern de la @gencat anuncia el #confinament de tot Catalunya.\n",
      "\n",
      "Davant l’emergència de la #COVID19, el missatge és clau:…\n",
      "Clean message : gencat el govern de la gencat anuncia el confinament de tot catalunya davant lemergencia de la covid19 el missatge es clau\n",
      "Ngrams        : [107660, 107661, 107662, 107663, 107664, 107665, 107666, 107667, 107668]\n",
      "Signature     : [107662.0, 107661.0, 107660.0, 107665.0, 107662.0]\n",
      "\n",
      "Document #627\n",
      "Message       : PROCICAT_CORONAVIRUS. El @govern de la @gencat anuncia el #confinament de tot Catalunya. Davant l’emergència de la #COVID19, el missatge és clau: limitar la mobilitat ajudarà a evitar la propagació del #coronavirus. Evitem desplaçaments i reduïm la vida social #JoEmQuedoACasa\n",
      "Clean message : procicatcoronavirus el govern de la gencat anuncia el confinament de tot catalunya davant lemergencia de la covid19 el missatge es clau limitar la mobilitat ajudara a evitar la propagacio del coronavirus evitem desplacaments i reduim la vida social joemquedoacasa\n",
      "Ngrams        : [7050, 7066, 7067, 7068, 7069, 7070, 7071, 107661, 107662, 107663, 107664, 107665, 107666, 107667, 107668, 108390, 108391, 108392, 108393, 108394, 108395, 108645]\n",
      "Signature     : [108645.0, 108392.0, 108395.0, 108395.0, 107662.0]\n"
     ]
    }
   ],
   "source": [
    "# Leave this code as-is\n",
    "\n",
    "def extract_ngrams(docid):\n",
    "    return [x for x in range(num_distinct_ngrams) if M_ngram_doc[x, docid] == True]\n",
    "\n",
    "def extract_signature(docid):\n",
    "    return [M_signature_doc[x, docid] for x in range(NUM_PERMUTATIONS)]\n",
    "\n",
    "def print_sig(messages, M_ngram_doc, M_signature_doc, i):\n",
    "    print(\"Document #%d\" % i)\n",
    "    print(\"Message       : %s\" % messages[i])\n",
    "    print(\"Clean message : %s\" % clean(messages[i]))\n",
    "    print(\"Ngrams        : %s\" % extract_ngrams(i))\n",
    "    print(\"Signature     : %s\" % extract_signature(i))\n",
    "\n",
    "        \n",
    "i = 385\n",
    "j = 627\n",
    "\n",
    "print_sig(messages, M_ngram_doc, M_signature_doc, i )\n",
    "\n",
    "print()\n",
    "\n",
    "print_sig(messages, M_ngram_doc, M_signature_doc, j )"
   ]
  },
  {
   "cell_type": "markdown",
   "metadata": {},
   "source": [
    "# 5. Compare all pairs of signatures"
   ]
  },
  {
   "cell_type": "code",
   "execution_count": 33,
   "metadata": {},
   "outputs": [
    {
     "name": "stdout",
     "output_type": "stream",
     "text": [
      "0/10000 documents scanned\n",
      "Document 16 has at least 50 signature matches (Full: 71, Partial: 18)\n",
      "Document 20 has at least 50 signature matches (Full: 28, Partial: 26)\n",
      "Document 53 has at least 50 signature matches (Full: 57, Partial: 0)\n",
      "Document 77 has at least 50 signature matches (Full: 6, Partial: 177)\n",
      "Document 166 has at least 50 signature matches (Full: 56, Partial: 0)\n",
      "Document 328 has at least 50 signature matches (Full: 65, Partial: 0)\n",
      "500/10000 documents scanned\n",
      "1000/10000 documents scanned\n",
      "2000/10000 documents scanned\n",
      "3500/10000 documents scanned\n",
      "4000/10000 documents scanned\n",
      "4500/10000 documents scanned\n",
      "5000/10000 documents scanned\n",
      "Document 5109 has at least 50 signature matches (Full: 66, Partial: 0)\n",
      "Document 5117 has at least 50 signature matches (Full: 71, Partial: 0)\n",
      "Document 5129 has at least 50 signature matches (Full: 54, Partial: 0)\n",
      "Document 5271 has at least 50 signature matches (Full: 54, Partial: 0)\n",
      "5500/10000 documents scanned\n",
      "Document 5636 has at least 50 signature matches (Full: 80, Partial: 0)\n",
      "7500/10000 documents scanned\n",
      "9500/10000 documents scanned\n"
     ]
    }
   ],
   "source": [
    "# Create a dictionary to store possible duplicates\n",
    "is_possible_duplicate = {}\n",
    "\n",
    "# Iterate through all documents\n",
    "for docid1 in range(len(messages)):\n",
    "    # Do not examine again a document that is a possible duplicate\n",
    "    if docid1 not in is_possible_duplicate:\n",
    "        # Counters for full and partial signature matches\n",
    "        count_sig_full_matches = 0\n",
    "        count_sig_partial_matches = 0\n",
    "\n",
    "        # Extract the signature of doc1\n",
    "        signature1 = extract_signature(docid1)\n",
    "        \n",
    "        if docid1 % 500 == 0:\n",
    "            print(\"%d/%d documents scanned\" % (docid1, len(messages)))\n",
    "\n",
    "        # Iterate through documents with docid larger than doc1\n",
    "        for docid2 in range(docid1+1, len(messages)):\n",
    "            # If this has not already been marked as a duplicate of another document\n",
    "            if docid2 not in is_possible_duplicate:\n",
    "                # Extract signature of doc2\n",
    "                signature2 = extract_signature(docid2)\n",
    "                \n",
    "                # Calculate the similarity between signatures (you need to implement this)\n",
    "                similarity = jaccard_similarity(signature1, signature2)\n",
    "                \n",
    "                # Check if it's a full signature match\n",
    "                if similarity == 1.0:\n",
    "                    count_sig_full_matches += 1\n",
    "                    # Mark docid2 as a possible duplicate of docid1\n",
    "                    is_possible_duplicate[docid2] = docid1\n",
    "                # Check if it's a partial signature match\n",
    "                elif 0.2 < similarity < 1.0:\n",
    "                    count_sig_partial_matches += 1\n",
    "                    is_possible_duplicate[docid2] = docid1\n",
    "                    \n",
    "\n",
    "        # If the total number of matches (full and partial) exceeds the threshold\n",
    "        if count_sig_full_matches + count_sig_partial_matches >= 50:\n",
    "            print(\"Document %d has at least %d signature matches (Full: %d, Partial: %d)\" % (docid1, 50, count_sig_full_matches, count_sig_partial_matches))\n",
    "\n",
    "# You should implement the `extract_signature` and `calculate_similarity` functions\n",
    "# according to your specific use case and data."
   ]
  },
  {
   "cell_type": "code",
   "execution_count": 34,
   "metadata": {},
   "outputs": [
    {
     "name": "stdout",
     "output_type": "stream",
     "text": [
      "Original message: \n",
      " RT @emergenciescat: Què puc fer i que no? FAQs del #coronavirus a 14 de març. si us plau, demanem difusió. https://t.co/D5HNxwYjwK . From document 5077\n",
      "Duplicate message: \n",
      " RT @emergenciescat: ✅ Què puc fer i ⛔ què no si estic en una zona afectada pel confinament? \n",
      "\n",
      "#ProteccioCivil #Coronavirus https://t.co/lxz… . From document 77\n"
     ]
    }
   ],
   "source": [
    "print(\"Original message: \\n\", messages[5077], \". From document\", 5077)\n",
    "print(\"Duplicate message: \\n\", messages[is_possible_duplicate[5077]], \". From document\", is_possible_duplicate[5077])"
   ]
  },
  {
   "cell_type": "markdown",
   "metadata": {},
   "source": [
    ">We observe that the original message and its duplicate are identical. Furthermore, it's evident that this message contains numerous complete matches. This is because, since it originates from @emergenciescat, people replicate or retweet it with the sole intention of spreading awareness about the situation."
   ]
  },
  {
   "cell_type": "code",
   "execution_count": 35,
   "metadata": {},
   "outputs": [
    {
     "name": "stdout",
     "output_type": "stream",
     "text": [
      "Original message: \n",
      " RT @emergenciescat: ⚠️ Es demana a la ciutadania limitar al màxim i, si es pot, EVITAR DESPLAÇAMENTS de cap de setmana. Tot el que sigui ma… . From document 84\n",
      "Near duplicate message: \n",
      " RT @emergenciescat: ⚠️ Es demana a la ciutadania limitar al màxim i, si es pot, EVITAR DESPLAÇAMENTS de cap de setmana. Tot el que sigui ma… . From document 16\n"
     ]
    }
   ],
   "source": [
    "print(\"Original message: \\n\", messages[84], \". From document\", 84)\n",
    "print(\"Near duplicate message: \\n\", messages[is_possible_duplicate[84]], \". From document\", is_possible_duplicate[84])"
   ]
  },
  {
   "cell_type": "markdown",
   "metadata": {},
   "source": [
    ">There are many instances of partial matches in this message. One of the potential explanations for this occurrence is that individuals are sharing information from the 'Mossos' about the 'Principat.' Consequently, those who tweet similar messages are paraphrasing the 'Mossos' statements in their own language, which can lead to minor differences in the message.\n",
    "\n",
    "\n",
    "\n",
    "\n"
   ]
  },
  {
   "cell_type": "code",
   "execution_count": 36,
   "metadata": {},
   "outputs": [
    {
     "name": "stdout",
     "output_type": "stream",
     "text": [
      "Iteration for ngram = 2 ...\n",
      "   Scaning permutations...\n",
      "      Creating signatures for permutation 1/5\n",
      "      Creating signatures for permutation 2/5\n",
      "      Creating signatures for permutation 3/5\n",
      "      Creating signatures for permutation 4/5\n",
      "      Creating signatures for permutation 5/5\n",
      "   Scan ended!\n",
      "   Comparing documents...\n",
      "   Document comparison ended!\n",
      "Iteration for ngram = 3 ...\n",
      "   Scaning permutations...\n",
      "      Creating signatures for permutation 1/5\n",
      "      Creating signatures for permutation 2/5\n",
      "      Creating signatures for permutation 3/5\n",
      "      Creating signatures for permutation 4/5\n",
      "      Creating signatures for permutation 5/5\n",
      "   Scan ended!\n",
      "   Comparing documents...\n",
      "   Document comparison ended!\n",
      "Iteration for ngram = 4 ...\n",
      "   Scaning permutations...\n",
      "      Creating signatures for permutation 1/5\n",
      "      Creating signatures for permutation 2/5\n",
      "      Creating signatures for permutation 3/5\n",
      "      Creating signatures for permutation 4/5\n",
      "      Creating signatures for permutation 5/5\n",
      "   Scan ended!\n",
      "   Comparing documents...\n",
      "   Document comparison ended!\n"
     ]
    }
   ],
   "source": [
    "# --Extra--\n",
    "\n",
    "# Define the ngram sizes to iterate through\n",
    "ngram_sizes = [2, 3, 4]\n",
    "\n",
    "#ngram_sizes = [4]\n",
    "# Create lists to store the results for each ngram size\n",
    "\n",
    "full_matches_results = []\n",
    "partial_matches_results = []\n",
    "is_possible_duplicate = {}\n",
    "\n",
    "# Loop over different ngram sizes\n",
    "for ngram_size in ngram_sizes:\n",
    "    print(\"Iteration for ngram =\", ngram_size,\"...\")\n",
    "    # Reset your data structures and variables here\n",
    "    ngram_to_index = {}\n",
    "    index_to_ngram = {}\n",
    "    next_index = 0\n",
    "    # Creating dictionary, creating M_ngram_doc, permutations, and M_signature_doc\n",
    "    for message in messages:\n",
    "        all_ngrams = ngrams(message, ngram_size)\n",
    "        for ngram in all_ngrams:\n",
    "            ngram_to_index[ngram] = next_index\n",
    "            index_to_ngram[next_index] = ngram\n",
    "            next_index +=1\n",
    "    num_distinct_ngrams = next_index\n",
    "\n",
    "    # Your existing code for ngram creation, M_ngram_doc, permutations, and signature creation\n",
    "    M_ngram_doc = np.full((num_distinct_ngrams, len(messages)), False)\n",
    "    for docid in range(len(messages)):\n",
    "        message = messages[docid]\n",
    "        all_ngrams = ngrams(message, ngram_size)\n",
    "        for ngram in all_ngrams:\n",
    "            M_ngram_doc[ngram_to_index[ngram], docid] = True\n",
    "        # Create a dictionary to store possible duplicates\n",
    "        #is_possible_duplicate = {}\n",
    "   \n",
    "    # Create the permutations\n",
    "    NUM_PERMUTATIONS = 5\n",
    "    permutations = []\n",
    "    for i in range(NUM_PERMUTATIONS):\n",
    "        permutation = random_permutation(num_distinct_ngrams)\n",
    "        permutations.append(random_permutation(num_distinct_ngrams))\n",
    "      \n",
    "    M_signature_doc = np.full((NUM_PERMUTATIONS, len(messages)), np.nan)\n",
    "    \n",
    "    print(\"   Scaning permutations...\")\n",
    "    for permutation_num in range(NUM_PERMUTATIONS):\n",
    "        print(\"      Creating signatures for permutation %d/%d\" % (permutation_num + 1, NUM_PERMUTATIONS))\n",
    "        permutation = permutations[permutation_num]\n",
    "        for docid in range(len(messages)):\n",
    "            first_ngram = find_first_one(docid, permutation)\n",
    "            if first_ngram != -1:\n",
    "                M_signature_doc[permutation_num, docid] = first_ngram\n",
    "    print(\"   Scan ended!\")\n",
    "    # Iterate through all documents\n",
    "    \n",
    "    print(\"   Comparing documents...\")\n",
    "    \n",
    "    is_possible_duplicate = {}\n",
    "    count_sig_full_matches = 0\n",
    "    count_sig_partial_matches = 0\n",
    "    for docid1 in range(len(messages)):\n",
    "        # Do not examine again a document that is a possible duplicate\n",
    "        if docid1 not in is_possible_duplicate:\n",
    "            # Counters for full and partial signature matches\n",
    "            partial_count_sig_full_matches = 0\n",
    "            partial_count_sig_partial_matches = 0\n",
    "\n",
    "            # Extract the signature of doc1\n",
    "            signature1 = extract_signature(docid1)\n",
    "\n",
    "            # Iterate through documents with docid larger than doc1\n",
    "            for docid2 in range(docid1 + 1, len(messages)):\n",
    "                # If this has not already been marked as a duplicate of another document\n",
    "                if docid2 not in is_possible_duplicate:\n",
    "                    # Extract signature of doc2\n",
    "                    signature2 = extract_signature(docid2)\n",
    "\n",
    "                    # Calculate the similarity between signatures (you need to implement this)\n",
    "                    similarity = jaccard_similarity(signature1, signature2)\n",
    "\n",
    "                    # Check if it's a full signature match\n",
    "                    if similarity == 1.0:\n",
    "                        partial_count_sig_full_matches += 1\n",
    "                        # Mark docid2 as a possible duplicate of docid1\n",
    "                        is_possible_duplicate[docid2] = docid1\n",
    "                    # Check if it's a partial signature match\n",
    "                    elif 0.2 < similarity < 1.0:\n",
    "                        partial_count_sig_partial_matches += 1\n",
    "        count_sig_full_matches += partial_count_sig_full_matches\n",
    "        count_sig_partial_matches += partial_count_sig_partial_matches\n",
    "    full_matches_results.append(count_sig_full_matches)\n",
    "    partial_matches_results.append(count_sig_partial_matches)\n",
    "    \n",
    "    print(\"   Document comparison ended!\")\n",
    "    # Store the results for the current ngram size\n"
   ]
  },
  {
   "cell_type": "code",
   "execution_count": 37,
   "metadata": {},
   "outputs": [
    {
     "name": "stdout",
     "output_type": "stream",
     "text": [
      "[7383, 7364, 7211]\n"
     ]
    }
   ],
   "source": [
    "print(full_matches_results)"
   ]
  },
  {
   "cell_type": "code",
   "execution_count": 58,
   "metadata": {},
   "outputs": [
    {
     "data": {
      "image/png": "[encoded data removed]",
      "text/plain": [
       "<Figure size 864x432 with 2 Axes>"
      ]
     },
     "metadata": {
      "needs_background": "light"
     },
     "output_type": "display_data"
    }
   ],
   "source": [
    "# Define the ngram sizes and their corresponding results\n",
    "ngram_sizes = [2, 3, 4]\n",
    "\n",
    "fig, (ax1, ax2) = plt.subplots(1, 2, figsize=(12, 6))  # I do this to have one close to the other\n",
    "\n",
    "# Create a bar plot for full matches\n",
    "ax1.bar(ngram_sizes, full_matches_results, color='lightgreen', label='Full Matches')\n",
    "ax1.set_xlabel('ngram_size')\n",
    "ax1.set_ylabel('Count of Full Matches')\n",
    "ax1.set_title('Full Matches for Different ngram Sizes')\n",
    "ax1.legend()\n",
    "\n",
    "# Create a bar plot for partial matches\n",
    "ax2.bar(ngram_sizes, partial_matches_results, color='navy', label='Partial Matches')\n",
    "ax2.set_xlabel('ngram_size')\n",
    "ax2.set_ylabel('Count of Partial Matches')\n",
    "ax2.set_title('Partial Matches for Different ngram Sizes')\n",
    "ax2.legend()\n",
    "\n",
    "plt.tight_layout()\n",
    "plt.show()"
   ]
  },
  {
   "cell_type": "code",
   "execution_count": 60,
   "metadata": {},
   "outputs": [
    {
     "data": {
      "image/png": "[encoded data removed]",
      "text/plain": [
       "<Figure size 720x360 with 1 Axes>"
      ]
     },
     "metadata": {
      "needs_background": "light"
     },
     "output_type": "display_data"
    }
   ],
   "source": [
    "execution_times = []\n",
    "\n",
    "# Compare 2-grams, 3-grams, and 4-grams\n",
    "ngram_sizes = [2, 3, 4]\n",
    "for ngram_size in ngram_sizes:\n",
    "    # Measure efficiency\n",
    "    execution_time = time_brute_force_similarities(messages, limit=100, ngram_size=ngram_size)\n",
    "    execution_times.append(execution_time)\n",
    "\n",
    "# Create a plot for efficiency\n",
    "plt.figure(figsize=(10, 5))\n",
    "plt.bar(ngram_sizes, execution_times, color='red')\n",
    "plt.xlabel('N-gram Size')\n",
    "plt.ylabel('Execution Time (s)')\n",
    "plt.title('Efficiency Comparison')\n",
    "plt.show()\n"
   ]
  },
  {
   "cell_type": "markdown",
   "metadata": {},
   "source": [
    "<font size=\"+1\" color=\"#003300\">We hereby declare that, except for the code provided by the course instructors, all of my code, report, and figures were produced by myself.</font>"
   ]
  }
 ],
 "metadata": {
  "kernelspec": {
   "display_name": "Python 3 (ipykernel)",
   "language": "python",
   "name": "python3"
  },
  "language_info": {
   "codemirror_mode": {
    "name": "ipython",
    "version": 3
   },
   "file_extension": ".py",
   "mimetype": "text/x-python",
   "name": "python",
   "nbconvert_exporter": "python",
   "pygments_lexer": "ipython3",
   "version": "3.9.12"
  }
 },
 "nbformat": 4,
 "nbformat_minor": 4
}
