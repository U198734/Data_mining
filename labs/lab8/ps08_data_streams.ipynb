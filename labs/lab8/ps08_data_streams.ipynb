{
 "cells": [
  {
   "cell_type": "markdown",
   "metadata": {},
   "source": [
    "# Practice Session 08: Data streams\n",
    "\n",
    "In this session we will take a large corpus of documents and compute some statistics using data streams methods.\n",
    "\n",
    "<font size=\"-1\" color=\"gray\">(Remove this cell when delivering.)</font>"
   ]
  },
  {
   "cell_type": "markdown",
   "metadata": {},
   "source": [
    "Author: <font color=\"blue\">Marcel Fernández</font>\n",
    "\n",
    "E-mail: <font color=\"blue\">marcel.fernandez02@estudiant.upf.edu</font>\n",
    "\n",
    "Date: <font color=\"blue\">20/11/2023</font>"
   ]
  },
  {
   "cell_type": "code",
   "execution_count": 2,
   "metadata": {},
   "outputs": [],
   "source": [
    "import io\n",
    "import nltk\n",
    "import gzip\n",
    "import random\n",
    "import statistics\n",
    "import secrets\n",
    "import re\n",
    "import gzip\n"
   ]
  },
  {
   "cell_type": "markdown",
   "metadata": {},
   "source": [
    "# 0. Dataset and how to iterate"
   ]
  },
  {
   "cell_type": "code",
   "execution_count": 3,
   "metadata": {},
   "outputs": [],
   "source": [
    "# Leave this code as-is\n",
    "\n",
    "INPUT_FILE = \"movie_lines.tsv.gz\""
   ]
  },
  {
   "cell_type": "code",
   "execution_count": 4,
   "metadata": {},
   "outputs": [],
   "source": [
    "# Leave this code as-is\n",
    "\n",
    "# Producer in Python that reads a filename by words\n",
    "def read_by_words(filename, max_words=-1, report_every=-1):\n",
    "    \n",
    "    # Open the input file\n",
    "    with gzip.open(INPUT_FILE, \"rt\", encoding='utf8') as file:\n",
    "        \n",
    "        # Initialize counter of words to stop at max_words\n",
    "        counter = 0\n",
    "    \n",
    "        # Regular expression to identify words having 3 letters or more and beginning with a-z\n",
    "        word_expr = re.compile('^[a-z]{2,}$', re.IGNORECASE)\n",
    "\n",
    "        # Iterate through lines in the file\n",
    "        for line in file:\n",
    "            \n",
    "            elements = line.split(\"\\t\")\n",
    "            \n",
    "            text = \"\"\n",
    "            if len(elements) >= 5:\n",
    "                text = elements[4].strip()\n",
    "                                        \n",
    "            if counter > max_words and max_words != -1:\n",
    "                break\n",
    "                \n",
    "            for word in nltk.word_tokenize(text):\n",
    "                          \n",
    "                if word_expr.match(word):\n",
    "                    counter += 1\n",
    "                    \n",
    "                    # Report\n",
    "                    if (report_every != -1) and (counter % report_every == 0):\n",
    "                        if max_words == -1:\n",
    "                            print(\"- Read %d words so far\" % (counter))\n",
    "                        else:\n",
    "                            print(\"- Read %d/%d words so far\" % (counter, max_words))\n",
    "\n",
    "                    # Produce the word in lowercase\n",
    "                    yield word.lower()"
   ]
  },
  {
   "cell_type": "code",
   "execution_count": 5,
   "metadata": {},
   "outputs": [
    {
     "name": "stdout",
     "output_type": "stream",
     "text": [
      "Current word 'but'\n",
      "Current word 'bad'\n",
      "Current word 'you'\n",
      "Current word 'car'\n",
      "Current word 'wong'\n",
      "Current word 'eye'\n",
      "Current word 'knowing'\n",
      "Current word 'okay'\n",
      "Current word 'awake'\n",
      "Current word 'was'\n",
      "Current word 'little'\n",
      "Current word 'final'\n",
      "Current word 'commes'\n",
      "Current word 'have'\n",
      "Current word 'know'\n",
      "Current word 'you'\n",
      "Current word 'up'\n",
      "Current word 'and'\n",
      "Current word 'no'\n",
      "Current word 'you'\n",
      "Current word 'was'\n",
      "Current word 'do'\n",
      "Current word 'deal'\n",
      "Current word 'is'\n",
      "Current word 'cab'\n",
      "Current word 'you'\n",
      "Current word 'bail'\n",
      "Current word 'when'\n",
      "Current word 'it'\n",
      "Current word 'do'\n",
      "Current word 'me'\n",
      "Current word 'god'\n",
      "Current word 'passage'\n",
      "Current word 'what'\n",
      "Current word 'with'\n",
      "Current word 'allergist'\n",
      "Current word 'is'\n",
      "Current word 'of'\n",
      "Current word 'strong'\n",
      "Current word 'the'\n",
      "Current word 'ridiculous'\n",
      "Current word 'little'\n",
      "Current word 'to'\n",
      "Current word 'not'\n",
      "Current word 'not'\n",
      "Current word 'ghastly'\n"
     ]
    }
   ],
   "source": [
    "# Leave this code as-is\n",
    "\n",
    "# Iterate through the file\n",
    "for word in read_by_words(INPUT_FILE, max_words=400000, report_every=500000): # I choose 1 milion words\n",
    "    # Prints 1/10000 of words\n",
    "    if random.random() < 0.0001:\n",
    "        print(\"Current word '%s'\" % (word)) "
   ]
  },
  {
   "cell_type": "code",
   "execution_count": 6,
   "metadata": {},
   "outputs": [
    {
     "name": "stderr",
     "output_type": "stream",
     "text": [
      "[nltk_data] Downloading package punkt to\n",
      "[nltk_data]     C:\\Users\\Usuario\\AppData\\Roaming\\nltk_data...\n",
      "[nltk_data]   Package punkt is already up-to-date!\n"
     ]
    },
    {
     "data": {
      "text/plain": [
       "True"
      ]
     },
     "execution_count": 6,
     "metadata": {},
     "output_type": "execute_result"
    }
   ],
   "source": [
    "# Run this if above gives an error about 'punkt'\n",
    "nltk.download('punkt')"
   ]
  },
  {
   "cell_type": "markdown",
   "metadata": {},
   "source": [
    "# 1. Determine approximately the top-10 words"
   ]
  },
  {
   "cell_type": "markdown",
   "metadata": {},
   "source": [
    "<font size=\"+1\" color=\"red\">Replace this cell with your code for \"add_reservoir\"</font>"
   ]
  },
  {
   "cell_type": "code",
   "execution_count": 8,
   "metadata": {},
   "outputs": [],
   "source": [
    "# reservoir size S \n",
    "# ignore with prob (1 - s / N)\n",
    "\n",
    "\n",
    "def add_to_reservoir(reservoir, item, max_reservoir_size):\n",
    "    assert len(reservoir) <= max_reservoir_size\n",
    "\n",
    "    if len(reservoir) < max_reservoir_size:\n",
    "        reservoir.append(item)\n",
    "    else:\n",
    "        prob = max_reservoir_size / (len(reservoir) + 1)\n",
    "        random_value = random.random() # generem un valor entre 0 i 1, comparem probabilitats\n",
    "        if random_value < prob:\n",
    "            \n",
    "            ignore_value = random.randint(0, max_reservoir_size - 1)\n",
    "            reservoir[ignore_value] = item\n",
    "            \n",
    "    return reservoir\n",
    "            "
   ]
  },
  {
   "cell_type": "code",
   "execution_count": 9,
   "metadata": {},
   "outputs": [
    {
     "name": "stdout",
     "output_type": "stream",
     "text": [
      "Final Reservoir: [90, 78, 99, 74, 89, 80, 100, 98, 81, 95]\n"
     ]
    }
   ],
   "source": [
    "# Test to check if the function goes well\n",
    "max_size = 10\n",
    "reservoir = []\n",
    "for i in range(1, 101):  \n",
    "    add_to_reservoir(reservoir, i, max_size)\n",
    "\n",
    "print(\"Final Reservoir:\", reservoir)"
   ]
  },
  {
   "cell_type": "code",
   "execution_count": 10,
   "metadata": {},
   "outputs": [],
   "source": [
    "def reservoir_sampling(filename, reservoir_size, max_words=-1, report_every=-1):\n",
    "    reservoir = []\n",
    "    words_read = 0\n",
    "\n",
    "    for word in read_by_words(filename, max_words=max_words, report_every=report_every):\n",
    "        words_read += 1\n",
    "        add_to_reservoir(reservoir, word, reservoir_size)\n",
    "\n",
    "    return words_read, reservoir"
   ]
  },
  {
   "cell_type": "markdown",
   "metadata": {},
   "source": [
    "<font size=\"+1\" color=\"red\">Replace this cell with your code for \"reservoir_sampling\"</font>"
   ]
  },
  {
   "cell_type": "code",
   "execution_count": 11,
   "metadata": {},
   "outputs": [
    {
     "name": "stdout",
     "output_type": "stream",
     "text": [
      "- Read 100000/1000000 words so far\n",
      "- Read 200000/1000000 words so far\n",
      "- Read 300000/1000000 words so far\n",
      "- Read 400000/1000000 words so far\n",
      "- Read 500000/1000000 words so far\n",
      "- Read 600000/1000000 words so far\n",
      "- Read 700000/1000000 words so far\n",
      "- Read 800000/1000000 words so far\n",
      "- Read 900000/1000000 words so far\n",
      "- Read 1000000/1000000 words so far\n",
      "Number of items seen    : 1000023\n",
      "Number of items sampled : 1500\n"
     ]
    }
   ],
   "source": [
    "# Leave this code as-is\n",
    "\n",
    "reservoir_size = 1500\n",
    "(items_seen, reservoir) = reservoir_sampling(INPUT_FILE, reservoir_size, max_words=1000000, report_every=100000)\n",
    "\n",
    "print(\"Number of items seen    : %d\" % items_seen)\n",
    "print(\"Number of items sampled : %d\" % len(reservoir) )"
   ]
  },
  {
   "cell_type": "code",
   "execution_count": 12,
   "metadata": {},
   "outputs": [
    {
     "name": "stdout",
     "output_type": "stream",
     "text": [
      "61 you\n",
      "49 to\n",
      "46 it\n",
      "36 the\n",
      "26 and\n",
      "22 that\n",
      "21 me\n",
      "18 what\n",
      "18 of\n",
      "18 in\n"
     ]
    }
   ],
   "source": [
    "# Leave this code as-is\n",
    "\n",
    "freq = {}\n",
    "for item in reservoir:\n",
    "    freq[item] = reservoir.count(item)\n",
    "\n",
    "most_frequent_items = sorted([(frequency, word) for word, frequency in freq.items()], reverse=True)[:10]\n",
    "for absolute_frequency, word in most_frequent_items:\n",
    "    print(\"%d %s\" % (absolute_frequency, word))"
   ]
  },
  {
   "cell_type": "markdown",
   "metadata": {},
   "source": [
    "<font size=\"+1\" color=\"red\">Replace this cell with your code to print the top items and their relative frequencies</font>"
   ]
  },
  {
   "cell_type": "code",
   "execution_count": 20,
   "metadata": {},
   "outputs": [],
   "source": [
    "from collections import Counter\n",
    "\n",
    "def compute_top_frequencies(reservoir, top):\n",
    "    # Count the occurrences of each item in the reservoir\n",
    "    item_counts = Counter(reservoir)\n",
    " \n",
    "    sorted_items = sorted(item_counts.items(), key=lambda x: x[1], reverse=True)\n",
    "    top_15_items = sorted_items[:top]\n",
    "\n",
    "    # Calculate relative frequencies as percentages\n",
    "    total_items = len(reservoir)\n",
    "    relative_frequencies = [(item, count / total_items * 100) for item, count in top_15_items]\n",
    "\n",
    "    return relative_frequencies"
   ]
  },
  {
   "cell_type": "code",
   "execution_count": 21,
   "metadata": {},
   "outputs": [
    {
     "name": "stdout",
     "output_type": "stream",
     "text": [
      "Top 15 most frequent items and their relative frequencies:\n",
      "------------------------------------------------------------\n",
      "you: 6.00%\n",
      "the: 5.00%\n",
      "she: 4.00%\n",
      "to: 3.00%\n",
      "never: 3.00%\n",
      "why: 2.00%\n",
      "be: 2.00%\n",
      "me: 2.00%\n",
      "go: 2.00%\n",
      "they: 2.00%\n",
      "it: 2.00%\n",
      "them: 2.00%\n",
      "how: 2.00%\n",
      "other: 1.00%\n",
      "see: 1.00%\n"
     ]
    }
   ],
   "source": [
    "top_frequencies = compute_top_frequencies(reservoir,15)\n",
    "\n",
    "print(\"Top 15 most frequent items and their relative frequencies:\")\n",
    "print('--'*30)\n",
    "for item, frequency in top_frequencies:\n",
    "    print(f\"{item}: {frequency:.2f}%\")"
   ]
  },
  {
   "cell_type": "markdown",
   "metadata": {},
   "source": [
    "<font size=\"+1\" color=\"red\">Increase the max limit of words so that one pass takes no more than 5 minutes to be completed. Replace this cell with your code to try different reservoir sizes. In each case, print your estimate for the relative and absolute frequency of the words in the entire dataset.</font>"
   ]
  },
  {
   "cell_type": "code",
   "execution_count": 18,
   "metadata": {},
   "outputs": [
    {
     "name": "stdout",
     "output_type": "stream",
     "text": [
      "- Read 500000/2000000 words so far\n",
      "- Read 1000000/2000000 words so far\n",
      "- Read 1500000/2000000 words so far\n",
      "- Read 2000000/2000000 words so far\n",
      "Number of items seen    : 2000007\n",
      "Number of items sampled : 100\n"
     ]
    }
   ],
   "source": [
    "reservoir_size = 100\n",
    "(items_seen, reservoir_2milion) = reservoir_sampling(INPUT_FILE, reservoir_size, max_words=2000000, report_every=500000)\n",
    "\n",
    "print(\"Number of items seen    : %d\" % items_seen)\n",
    "print(\"Number of items sampled : %d\" % len(reservoir_2milion) )"
   ]
  },
  {
   "cell_type": "code",
   "execution_count": 22,
   "metadata": {},
   "outputs": [
    {
     "name": "stdout",
     "output_type": "stream",
     "text": [
      "Top 5 most frequent items and their relative frequencies:\n",
      "------------------------------------------------------------\n",
      "you: 5.00%\n",
      "to: 5.00%\n",
      "the: 4.00%\n",
      "she: 3.00%\n",
      "they: 3.00%\n"
     ]
    }
   ],
   "source": [
    "top_frequencies = compute_top_frequencies(reservoir_2milion, 5)\n",
    "\n",
    "print(\"Top 5 most frequent items and their relative frequencies:\")\n",
    "print('--'*30)\n",
    "for item, frequency in top_frequencies:\n",
    "    print(f\"{item}: {frequency:.2f}%\")"
   ]
  },
  {
   "cell_type": "markdown",
   "metadata": {},
   "source": [
    "<font size=\"+1\" color=\"red\">Remove the max limit of words and re-run. Replace this cell with a brief commentary indicating what reservoir size you would recommend to use, and your overall conclusions.</font>"
   ]
  },
  {
   "cell_type": "code",
   "execution_count": 23,
   "metadata": {},
   "outputs": [
    {
     "name": "stdout",
     "output_type": "stream",
     "text": [
      "- Read 500000/3500000 words so far\n",
      "- Read 1000000/3500000 words so far\n",
      "- Read 1500000/3500000 words so far\n",
      "- Read 2000000/3500000 words so far\n",
      "- Read 2500000/3500000 words so far\n",
      "Number of items seen    : 2944845\n",
      "Number of items sampled : 300\n"
     ]
    }
   ],
   "source": [
    "reservoir_size = 300\n",
    "(items_seen, reservoir_max_len) = reservoir_sampling(INPUT_FILE, reservoir_size, max_words=3500000, report_every=500000)\n",
    "\n",
    "print(\"Number of items seen    : %d\" % items_seen)\n",
    "print(\"Number of items sampled : %d\" % len(reservoir_max_len) )"
   ]
  },
  {
   "cell_type": "code",
   "execution_count": 24,
   "metadata": {},
   "outputs": [
    {
     "name": "stdout",
     "output_type": "stream",
     "text": [
      "Top 5 most frequent items and their relative frequencies:\n",
      "------------------------------------------------------------\n",
      "the: 4.00%\n",
      "to: 3.33%\n",
      "you: 3.00%\n",
      "your: 2.00%\n",
      "of: 1.67%\n"
     ]
    }
   ],
   "source": [
    "top_frequencies = compute_top_frequencies(reservoir_max_len, 5)\n",
    "\n",
    "print(\"Top 5 most frequent items and their relative frequencies:\")\n",
    "print('--'*30)\n",
    "for item, frequency in top_frequencies:\n",
    "    print(f\"{item}: {frequency:.2f}%\")"
   ]
  },
  {
   "cell_type": "markdown",
   "metadata": {},
   "source": [
    "\n",
    "Looking at the results of the tests with different reservoir sizes, we can make some observations and comments:\n",
    "\n",
    "> - **Reservoir Size = 1500** (1 million words):\n",
    "The relative frequency of words seems to be well distributed.\n",
    "The reservoir size being 1.5% of the total number of words appears to be quite effective in capturing a representative sample.\n",
    "\n",
    "> - **Reservoir Size = 100** (2 million words):\n",
    "Although the reservoir size is smaller in relation to the dataset, we still obtain a reasonably representative sample of words.\n",
    "The relative frequency of words tends to be more uniform due to a smaller sample size.\n",
    "\n",
    "> - **Reservoir Size = 300** (3 million words):\n",
    "With a larger reservoir size, variability in relative frequencies decreases, and more common words stand out more clearly.\n",
    "The reservoir size is still relatively small compared to the total dataset size.\n",
    "\n",
    "> - **General Comments:**\n",
    "The choice of reservoir size depends on your specific goals and constraints.\n",
    "A larger reservoir size tends to provide a more accurate representation of relative frequencies but may require more resources.\n",
    "A smaller reservoir size may be sufficient to get a general overview, especially when resources are limited, but there may be more variability in the results.\n",
    "\n",
    "> - **Recommendation**:\n",
    "Since a reservoir size of 1500 seems to provide a good representation of relative frequencies and is still manageable in terms of resources, it could be a reasonable choice for a balance between accuracy and efficiency. However, the final choice will depend on your specific goals and resource constraints in your particular application. Experimenting with additional reservoir sizes and evaluating how they affect accuracy and efficiency could be beneficial for making a more informed decision.\n",
    "\n",
    "Using this data set we can see that with relatively small values of the reservoir size the program takes relatively little time, so we could increase the size further and thus have more precision in the data."
   ]
  },
  {
   "cell_type": "markdown",
   "metadata": {},
   "source": [
    "# 2. Determine approximately the distinct number of words"
   ]
  },
  {
   "cell_type": "code",
   "execution_count": 28,
   "metadata": {},
   "outputs": [],
   "source": [
    "# Leave this code as-is\n",
    "\n",
    "def count_trailing_zeroes(number):\n",
    "    count = 0\n",
    "    while number & 1 == 0:\n",
    "        count += 1\n",
    "        number = number >> 1\n",
    "    return count"
   ]
  },
  {
   "cell_type": "code",
   "execution_count": 29,
   "metadata": {},
   "outputs": [],
   "source": [
    "# Leave this code as-is\n",
    "\n",
    "def random_hash_function():\n",
    "    # We use a cryptographically safe generator for the salt of our hash function\n",
    "    salt = secrets.token_bytes(32)\n",
    "    return lambda string: hash(string + str(salt))"
   ]
  },
  {
   "cell_type": "code",
   "execution_count": 31,
   "metadata": {},
   "outputs": [
    {
     "name": "stdout",
     "output_type": "stream",
     "text": [
      "- Read 500000/1000000 words so far\n",
      "- Read 1000000/1000000 words so far\n",
      "Estimate on pass 1: 16384 distinct words\n",
      "- Read 500000/1000000 words so far\n",
      "- Read 1000000/1000000 words so far\n",
      "Estimate on pass 2: 32768 distinct words\n",
      "- Read 500000/1000000 words so far\n",
      "- Read 1000000/1000000 words so far\n",
      "Estimate on pass 3: 32768 distinct words\n",
      "- Read 500000/1000000 words so far\n",
      "- Read 1000000/1000000 words so far\n",
      "Estimate on pass 4: 16384 distinct words\n",
      "- Read 500000/1000000 words so far\n",
      "- Read 1000000/1000000 words so far\n",
      "Estimate on pass 5: 131072 distinct words\n"
     ]
    }
   ],
   "source": [
    "number_of_passes = 5\n",
    "estimates = []\n",
    "\n",
    "for i in range(number_of_passes):\n",
    "    hashing = random_hash_function()\n",
    "    R = 0\n",
    "    for word in read_by_words(INPUT_FILE, max_words=1000000, report_every=500000):\n",
    "        hash_value = hashing(word)\n",
    "        n_zeros = count_trailing_zeroes(hash_value)\n",
    "        R = max(R, n_zeros)\n",
    "        \n",
    "    estimate = 2**R\n",
    "    estimates.append(estimate)\n",
    "    print(\"Estimate on pass %d: %d distinct words\" % (i+1, estimate))"
   ]
  },
  {
   "cell_type": "markdown",
   "metadata": {},
   "source": [
    "<font size=\"+1\" color=\"red\">Replace this cell with your code to perform the requested number of passes.</font>"
   ]
  },
  {
   "cell_type": "code",
   "execution_count": 32,
   "metadata": {},
   "outputs": [
    {
     "name": "stdout",
     "output_type": "stream",
     "text": [
      "* Average of estimates: 45875.2\n",
      "* Median  of estimates: 32768.0\n"
     ]
    }
   ],
   "source": [
    "# Leave this code as-is\n",
    "\n",
    "print(\"* Average of estimates: %.1f\" % statistics.mean(estimates))\n",
    "print(\"* Median  of estimates: %.1f\" % statistics.median(estimates))"
   ]
  },
  {
   "cell_type": "markdown",
   "metadata": {},
   "source": [
    "<font size=\"+1\" color=\"red\">Remove the limit of max words, or set to a high number, but notice that you do no need to use more than one hour of computer processing time, and perform the 10 passes. Replace this cell with the results you obtained in each pass, and whether the average or the median seem more appropriate for this probabilistic counting.</font>"
   ]
  },
  {
   "cell_type": "code",
   "execution_count": 33,
   "metadata": {},
   "outputs": [
    {
     "name": "stdout",
     "output_type": "stream",
     "text": [
      "Estimate on pass 1: 65536 distinct words\n",
      "Estimate on pass 2: 16384 distinct words\n",
      "Estimate on pass 3: 131072 distinct words\n",
      "Estimate on pass 4: 131072 distinct words\n",
      "Estimate on pass 5: 32768 distinct words\n",
      "Estimate on pass 6: 65536 distinct words\n",
      "Estimate on pass 7: 131072 distinct words\n",
      "Estimate on pass 8: 131072 distinct words\n",
      "Estimate on pass 9: 32768 distinct words\n",
      "Estimate on pass 10: 262144 distinct words\n"
     ]
    }
   ],
   "source": [
    "number_of_passes = 10\n",
    "estimates = []\n",
    "\n",
    "for i in range(number_of_passes):\n",
    "    hashing = random_hash_function()\n",
    "    R = 0\n",
    "    for word in read_by_words(INPUT_FILE): # We delete the max words to take all the dataset\n",
    "        hash_value = hashing(word)\n",
    "        n_zeros = count_trailing_zeroes(hash_value)\n",
    "        R = max(R, n_zeros)\n",
    "        \n",
    "    estimate = 2**R\n",
    "    estimates.append(estimate)\n",
    "    print(\"Estimate on pass %d: %d distinct words\" % (i+1, estimate))"
   ]
  },
  {
   "cell_type": "code",
   "execution_count": 34,
   "metadata": {},
   "outputs": [
    {
     "name": "stdout",
     "output_type": "stream",
     "text": [
      "* Average of estimates: 99942.4\n",
      "* Median  of estimates: 98304.0\n"
     ]
    }
   ],
   "source": [
    "print(\"* Average of estimates: %.1f\" % statistics.mean(estimates))\n",
    "print(\"* Median  of estimates: %.1f\" % statistics.median(estimates))"
   ]
  },
  {
   "cell_type": "markdown",
   "metadata": {},
   "source": [
    "> - Comments:\n",
    "\n",
    " The estimates vary significantly from one pass to another, reflecting the probabilistic nature of the Flajolet-Martin algorithm.\n",
    "Larger estimates in certain passes indicate higher variability and uncertainty in those particular runs.\n",
    "The average of estimates (99942.4) is influenced by the large estimates in some passes, making it less robust to outliers.\n",
    "The median of estimates (98304.0) may be more appropriate for this probabilistic counting as it is less sensitive to extreme values.\n",
    "> - Recommendation:\n",
    "\n",
    "Given the variability in the estimates, the median is a more robust measure of central tendency in this context.\n",
    "The median provides a better representation of the typical estimate and is less affected by outliers.\n",
    "Considering the nature of probabilistic counting, where individual estimates can vary widely, using the median as a summary statistic is likely a more reliable choice."
   ]
  },
  {
   "cell_type": "markdown",
   "metadata": {},
   "source": [
    "### EXTRA"
   ]
  },
  {
   "cell_type": "code",
   "execution_count": 37,
   "metadata": {},
   "outputs": [
    {
     "data": {
      "image/png": "[encoded data removed]",
      "text/plain": [
       "<Figure size 432x288 with 1 Axes>"
      ]
     },
     "metadata": {
      "needs_background": "light"
     },
     "output_type": "display_data"
    }
   ],
   "source": [
    "import secrets\n",
    "import statistics\n",
    "import matplotlib.pyplot as plt\n",
    "\n",
    "def count_trailing_zeroes(number):\n",
    "    count = 0\n",
    "    while number & 1 == 0:\n",
    "        count += 1\n",
    "        number = number >> 1\n",
    "    return count\n",
    "\n",
    "def random_hash_function():\n",
    "    # We use a cryptographically safe generator for the salt of our hash function\n",
    "    salt = secrets.token_bytes(32)\n",
    "    return lambda string: hash(string + str(salt))\n",
    "\n",
    "def probabilistic_counting_experiment(max_words, number_of_passes=5):\n",
    "    estimates = []\n",
    "\n",
    "    for i in range(number_of_passes):\n",
    "        hashing = random_hash_function()\n",
    "        R = 0\n",
    "        distinct_words = set()\n",
    "\n",
    "        for word in read_by_words(INPUT_FILE, max_words=max_words):\n",
    "            hash_value = hashing(word)\n",
    "            n_zeros = count_trailing_zeroes(hash_value)\n",
    "            R = max(R, n_zeros)\n",
    "\n",
    "        estimate = 2**R\n",
    "        estimates.append(estimate)\n",
    "\n",
    "    return statistics.median(estimates)\n",
    "\n",
    "def plot_heap_law(max_words_range):\n",
    "    total_words_read = []\n",
    "    distinct_words_count = []\n",
    "\n",
    "    for max_words in max_words_range:\n",
    "        median_estimate = probabilistic_counting_experiment(max_words)\n",
    "        total_words_read.append(max_words)\n",
    "        distinct_words_count.append(median_estimate)\n",
    "\n",
    "    # Plotting Heap's Law\n",
    "    plt.plot(total_words_read, distinct_words_count, marker='o')\n",
    "    plt.title(\"Heap's Law: Total Words vs Distinct Words\")\n",
    "    plt.xlabel(\"Total Words Read\")\n",
    "    plt.ylabel(\"Number of Distinct Words\")\n",
    "    plt.show()\n",
    "\n",
    "\n",
    "# Example usage:\n",
    "max_words_range = [10000, 20000, 30000, 40000, 50000, 60000, 70000, 80000, 90000, 100000,\n",
    "                   150000, 200000, 250000, 300000, 350000, 400000, 450000, 500000]\n",
    "plot_heap_law(max_words_range)"
   ]
  },
  {
   "cell_type": "markdown",
   "metadata": {},
   "source": [
    "> Observing the generated plot, it's important to note that due to the probabilistic nature of counting and the memory limitations introduced by the probabilistic counting method, irregularities in the plot are expected. Heap's Law describes the relationship between the size of the vocabulary and the size of the corpus, but the introduction of inherent noise from probabilistic counting can lead to variations in the estimation.\n",
    "\n",
    "> The fluctuations and irregularities in the plot are anticipated and reflect the stochastic nature of estimations based on this approach. Additionally, factors such as the choice of random hash functions and the dataset size can also contribute to the observed variability.\n",
    "\n",
    "> Despite these irregularities, the general pattern of the plot should still follow the expected trend of Heap's Law, showing an increase in the number of distinct words as the total dataset size increases. The key is to interpret the plot with an understanding that the estimations are approximate and subject to variations due to the probabilistic nature of the counting method.\n",
    "\n",
    "\n",
    "\n",
    "\n",
    "\n"
   ]
  },
  {
   "cell_type": "markdown",
   "metadata": {},
   "source": [
    "<font size=\"+2\" color=\"#003300\">I hereby declare that, except for the code provided by the course instructors, all of my code, report, and figures were produced by myself.</font>"
   ]
  }
 ],
 "metadata": {
  "kernelspec": {
   "display_name": "Python 3 (ipykernel)",
   "language": "python",
   "name": "python3"
  },
  "language_info": {
   "codemirror_mode": {
    "name": "ipython",
    "version": 3
   },
   "file_extension": ".py",
   "mimetype": "text/x-python",
   "name": "python",
   "nbconvert_exporter": "python",
   "pygments_lexer": "ipython3",
   "version": "3.9.12"
  }
 },
 "nbformat": 4,
 "nbformat_minor": 4
}
